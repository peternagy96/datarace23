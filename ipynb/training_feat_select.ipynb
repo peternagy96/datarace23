{
 "cells": [
  {
   "cell_type": "code",
   "execution_count": 1,
   "metadata": {},
   "outputs": [],
   "source": [
    "import numpy as np\n",
    "\n",
    "from datasets import BasicDataset\n",
    "from models import XGBModel"
   ]
  },
  {
   "cell_type": "code",
   "execution_count": 36,
   "metadata": {},
   "outputs": [
    {
     "name": "stderr",
     "output_type": "stream",
     "text": [
      "/Users/peter.nagy/repos/datarace23/datasets/base.py:186: SettingWithCopyWarning: \n",
      "A value is trying to be set on a copy of a slice from a DataFrame.\n",
      "Try using .loc[row_indexer,col_indexer] = value instead\n",
      "\n",
      "See the caveats in the documentation: https://pandas.pydata.org/pandas-docs/stable/user_guide/indexing.html#returning-a-view-versus-a-copy\n",
      "  df[feature] = df[feature].astype(\"category\")\n",
      "/Users/peter.nagy/repos/datarace23/datasets/base.py:186: SettingWithCopyWarning: \n",
      "A value is trying to be set on a copy of a slice from a DataFrame.\n",
      "Try using .loc[row_indexer,col_indexer] = value instead\n",
      "\n",
      "See the caveats in the documentation: https://pandas.pydata.org/pandas-docs/stable/user_guide/indexing.html#returning-a-view-versus-a-copy\n",
      "  df[feature] = df[feature].astype(\"category\")\n",
      "/Users/peter.nagy/repos/datarace23/datasets/base.py:186: SettingWithCopyWarning: \n",
      "A value is trying to be set on a copy of a slice from a DataFrame.\n",
      "Try using .loc[row_indexer,col_indexer] = value instead\n",
      "\n",
      "See the caveats in the documentation: https://pandas.pydata.org/pandas-docs/stable/user_guide/indexing.html#returning-a-view-versus-a-copy\n",
      "  df[feature] = df[feature].astype(\"category\")\n",
      "/Users/peter.nagy/repos/datarace23/datasets/base.py:186: SettingWithCopyWarning: \n",
      "A value is trying to be set on a copy of a slice from a DataFrame.\n",
      "Try using .loc[row_indexer,col_indexer] = value instead\n",
      "\n",
      "See the caveats in the documentation: https://pandas.pydata.org/pandas-docs/stable/user_guide/indexing.html#returning-a-view-versus-a-copy\n",
      "  df[feature] = df[feature].astype(\"category\")\n",
      "/Users/peter.nagy/repos/datarace23/datasets/base.py:186: SettingWithCopyWarning: \n",
      "A value is trying to be set on a copy of a slice from a DataFrame.\n",
      "Try using .loc[row_indexer,col_indexer] = value instead\n",
      "\n",
      "See the caveats in the documentation: https://pandas.pydata.org/pandas-docs/stable/user_guide/indexing.html#returning-a-view-versus-a-copy\n",
      "  df[feature] = df[feature].astype(\"category\")\n",
      "/Users/peter.nagy/repos/datarace23/datasets/base.py:186: SettingWithCopyWarning: \n",
      "A value is trying to be set on a copy of a slice from a DataFrame.\n",
      "Try using .loc[row_indexer,col_indexer] = value instead\n",
      "\n",
      "See the caveats in the documentation: https://pandas.pydata.org/pandas-docs/stable/user_guide/indexing.html#returning-a-view-versus-a-copy\n",
      "  df[feature] = df[feature].astype(\"category\")\n",
      "/Users/peter.nagy/repos/datarace23/datasets/base.py:186: SettingWithCopyWarning: \n",
      "A value is trying to be set on a copy of a slice from a DataFrame.\n",
      "Try using .loc[row_indexer,col_indexer] = value instead\n",
      "\n",
      "See the caveats in the documentation: https://pandas.pydata.org/pandas-docs/stable/user_guide/indexing.html#returning-a-view-versus-a-copy\n",
      "  df[feature] = df[feature].astype(\"category\")\n",
      "/Users/peter.nagy/repos/datarace23/datasets/base.py:186: SettingWithCopyWarning: \n",
      "A value is trying to be set on a copy of a slice from a DataFrame.\n",
      "Try using .loc[row_indexer,col_indexer] = value instead\n",
      "\n",
      "See the caveats in the documentation: https://pandas.pydata.org/pandas-docs/stable/user_guide/indexing.html#returning-a-view-versus-a-copy\n",
      "  df[feature] = df[feature].astype(\"category\")\n",
      "/Users/peter.nagy/repos/datarace23/datasets/base.py:186: SettingWithCopyWarning: \n",
      "A value is trying to be set on a copy of a slice from a DataFrame.\n",
      "Try using .loc[row_indexer,col_indexer] = value instead\n",
      "\n",
      "See the caveats in the documentation: https://pandas.pydata.org/pandas-docs/stable/user_guide/indexing.html#returning-a-view-versus-a-copy\n",
      "  df[feature] = df[feature].astype(\"category\")\n",
      "/Users/peter.nagy/repos/datarace23/datasets/base.py:186: SettingWithCopyWarning: \n",
      "A value is trying to be set on a copy of a slice from a DataFrame.\n",
      "Try using .loc[row_indexer,col_indexer] = value instead\n",
      "\n",
      "See the caveats in the documentation: https://pandas.pydata.org/pandas-docs/stable/user_guide/indexing.html#returning-a-view-versus-a-copy\n",
      "  df[feature] = df[feature].astype(\"category\")\n"
     ]
    }
   ],
   "source": [
    "ds = BasicDataset(\n",
    "    ohe_features=[\n",
    "\n",
    "    ],\n",
    "    le_features=[\n",
    "\n",
    "    ],\n",
    "    categorical_features=[\n",
    "        \"CONTRACT_CREDIT_INTERMEDIARY\",\n",
    "        \"CONTRACT_CURRENCY\",\n",
    "        \"CONTRACT_FREQUENCY_TYPE\",\n",
    "        \"CONTRACT_LOAN_CONTRACT_TYPE\",\n",
    "        \"CONTRACT_LOAN_TYPE\",\n",
    "        \"CONTRACT_MORTGAGE_TYPE\",\n",
    "        \"CONTRACT_REFINANCED\",\n",
    "        \"CONTRACT_TYPE_OF_INTEREST_REPAYMENT\",\n",
    "        \"BORROWER_TYPE_OF_CUSTOMER\",\n",
    "        \"BORROWER_TYPE_OF_SETTLEMENT\",\n",
    "        \"CONTRACT_BANK_ID\",\n",
    "        \"BORROWER_CITIZENSHIP\",\n",
    "        \"BORROWER_COUNTRY\",\n",
    "        \"BORROWER_COUNTY\"\n",
    "    ],\n",
    "    log_transform_features=[\n",
    "\n",
    "    ],\n",
    "    numerical_features=[\n",
    "        \"CONTRACT_CREDIT_LOSS\",\n",
    "        \"CONTRACT_LOAN_AMOUNT\",\n",
    "        \"CONTRACT_RISK_WEIGHTED_ASSETS\",\n",
    "        \"CONTRACT_INSTALMENT_AMOUNT_2\",\n",
    "        \"CONTRACT_INTEREST_PERIOD\",\n",
    "        \"CONTRACT_INTEREST_RATE\",\n",
    "        \"CONTRACT_LOAN_TO_VALUE_RATIO\",\n",
    "        \"BORROWER_BIRTH_YEAR\",\n",
    "    ],\n",
    "    feature_engineered_cols=[]\n",
    "    )"
   ]
  },
  {
   "cell_type": "code",
   "execution_count": 37,
   "metadata": {},
   "outputs": [
    {
     "data": {
      "text/plain": [
       "'2023-11-22-16-49-b4bc1'"
      ]
     },
     "execution_count": 37,
     "metadata": {},
     "output_type": "execute_result"
    }
   ],
   "source": [
    "ds.save()"
   ]
  },
  {
   "cell_type": "code",
   "execution_count": null,
   "metadata": {},
   "outputs": [],
   "source": [
    "# ohe + le: 2023-11-22-11-50-e739e\n",
    "# categorical: 2023-11-22-15-48-2603b\n",
    "# only le + num: 2023-11-22-16-41-3086b\n",
    "# categorical + moar params: 2023-11-22-16-49-b4bc1"
   ]
  },
  {
   "cell_type": "code",
   "execution_count": 3,
   "metadata": {},
   "outputs": [],
   "source": [
    "ds = BasicDataset.load(save_id='2023-11-22-16-43-ee0f3')"
   ]
  },
  {
   "cell_type": "code",
   "execution_count": 7,
   "metadata": {},
   "outputs": [],
   "source": [
    "ds.train_df[\"CONTRACT_COUNT\"] = ds.train_df.sort_values([\"BORROWER_ID\", \"CONTRACT_DATE_OF_LOAN_AGREEMENT\"]).BORROWER_ID.groupby(\n",
    "            ds.train_df[\"BORROWER_ID\"]\n",
    "        ).cumcount()"
   ]
  },
  {
   "cell_type": "code",
   "execution_count": 9,
   "metadata": {},
   "outputs": [],
   "source": [
    "ds.train_df.loc[ds.train_df[\"BORROWER_ID\"]  == 'xNullx', \"CONTRACT_COUNT\"] = 0"
   ]
  },
  {
   "cell_type": "code",
   "execution_count": 10,
   "metadata": {},
   "outputs": [
    {
     "data": {
      "text/plain": [
       "CONTRACT_COUNT\n",
       "0     458316\n",
       "1      57066\n",
       "2       8654\n",
       "3       1752\n",
       "4        404\n",
       "5        104\n",
       "6         37\n",
       "7         19\n",
       "8         13\n",
       "9          6\n",
       "10         5\n",
       "11         3\n",
       "12         2\n",
       "13         1\n",
       "Name: count, dtype: int64"
      ]
     },
     "execution_count": 10,
     "metadata": {},
     "output_type": "execute_result"
    }
   ],
   "source": [
    "ds.train_df.CONTRACT_COUNT.value_counts()"
   ]
  },
  {
   "cell_type": "code",
   "execution_count": null,
   "metadata": {},
   "outputs": [],
   "source": []
  },
  {
   "cell_type": "code",
   "execution_count": 38,
   "metadata": {},
   "outputs": [],
   "source": [
    "model = XGBModel(\n",
    "{\n",
    "        \"n_estimators\": 100,\n",
    "        \"max_depth\": 10,\n",
    "        \"learning_rate\": 0.1,\n",
    "        \"subsample\": 0.5,\n",
    "        \"colsample_bytree\": 0.5,\n",
    "        \"reg_alpha\": 1,\n",
    "        \"reg_lambda\": 1,\n",
    "        \"random_state\": 42,\n",
    "        \"enable_categorical\": True,\n",
    "    }\n",
    ")\n",
    "\n"
   ]
  },
  {
   "cell_type": "code",
   "execution_count": 39,
   "metadata": {},
   "outputs": [
    {
     "name": "stdout",
     "output_type": "stream",
     "text": [
      "Cross-validation scores mean: 0.9939967453289092, std: 0.0002683622615886357\n",
      "Test score: 0.9945097741218488\n",
      "F1 score: 0.8670041417395307\n"
     ]
    },
    {
     "data": {
      "text/plain": [
       "0.9939967453289092"
      ]
     },
     "execution_count": 39,
     "metadata": {},
     "output_type": "execute_result"
    }
   ],
   "source": [
    "model.fit(ds)"
   ]
  },
  {
   "cell_type": "code",
   "execution_count": 40,
   "metadata": {},
   "outputs": [],
   "source": [
    "model.predict(ds).to_csv(\"submissions/categorical_moar_features.csv\", index=False)"
   ]
  },
  {
   "cell_type": "code",
   "execution_count": 41,
   "metadata": {},
   "outputs": [
    {
     "data": {
      "text/plain": [
       "'2023-11-22-16-50-68f8f'"
      ]
     },
     "execution_count": 41,
     "metadata": {},
     "output_type": "execute_result"
    }
   ],
   "source": [
    "model.save()"
   ]
  },
  {
   "cell_type": "code",
   "execution_count": 4,
   "metadata": {},
   "outputs": [
    {
     "name": "stderr",
     "output_type": "stream",
     "text": [
      "/Users/peter.nagy/repos/datarace23/.venv/lib/python3.11/site-packages/tqdm/auto.py:21: TqdmWarning: IProgress not found. Please update jupyter and ipywidgets. See https://ipywidgets.readthedocs.io/en/stable/user_install.html\n",
      "  from .autonotebook import tqdm as notebook_tqdm\n",
      "[I 2023-11-22 12:20:19,445] A new study created in memory with name: no-name-95c86487-9d85-48ed-ab43-cb0eede5c3ce\n"
     ]
    },
    {
     "name": "stdout",
     "output_type": "stream",
     "text": [
      "Cross-validation scores mean: 0.9938848700397841, std: 0.00032630200312134557\n",
      "Test score: 0.9943577955508274\n"
     ]
    },
    {
     "name": "stderr",
     "output_type": "stream",
     "text": [
      "[I 2023-11-22 12:20:35,313] Trial 0 finished with value: 0.863196683555965 and parameters: {'n_estimators': 81, 'max_depth': 8, 'learning_rate': 0.10394912277108934, 'subsample': 0.7749594535944224, 'colsample_bytree': 0.8482946891447991, 'reg_alpha': 6.119787361354072, 'reg_lambda': 0.7583983327348423, 'random_state': 88}. Best is trial 0 with value: 0.863196683555965.\n"
     ]
    },
    {
     "name": "stdout",
     "output_type": "stream",
     "text": [
      "F1 score: 0.863196683555965\n",
      "Cross-validation scores mean: 0.9942394927339497, std: 0.0003037266413051975\n",
      "Test score: 0.9948327285852695\n"
     ]
    },
    {
     "name": "stderr",
     "output_type": "stream",
     "text": [
      "[I 2023-11-22 12:20:55,042] Trial 1 finished with value: 0.8746543778801844 and parameters: {'n_estimators': 102, 'max_depth': 15, 'learning_rate': 0.09097065978116066, 'subsample': 0.9515278066804946, 'colsample_bytree': 0.9386878623783537, 'reg_alpha': 4.722760624017423, 'reg_lambda': 5.096329513857128, 'random_state': 30}. Best is trial 1 with value: 0.8746543778801844.\n"
     ]
    },
    {
     "name": "stdout",
     "output_type": "stream",
     "text": [
      "F1 score: 0.8746543778801844\n",
      "Cross-validation scores mean: 0.9935513560597163, std: 0.00031400920176133856\n",
      "Test score: 0.9942438116225613\n"
     ]
    },
    {
     "name": "stderr",
     "output_type": "stream",
     "text": [
      "[I 2023-11-22 12:21:09,370] Trial 2 finished with value: 0.8592661402693915 and parameters: {'n_estimators': 63, 'max_depth': 10, 'learning_rate': 0.1266407779235455, 'subsample': 0.8498458003947933, 'colsample_bytree': 0.5034220277033495, 'reg_alpha': 8.895253286938157, 'reg_lambda': 3.2659441354872265, 'random_state': 47}. Best is trial 1 with value: 0.8746543778801844.\n"
     ]
    },
    {
     "name": "stdout",
     "output_type": "stream",
     "text": [
      "F1 score: 0.8592661402693915\n",
      "Cross-validation scores mean: 0.994212051922483, std: 0.00022710390221805348\n",
      "Test score: 0.9948517259066472\n"
     ]
    },
    {
     "name": "stderr",
     "output_type": "stream",
     "text": [
      "[I 2023-11-22 12:21:53,820] Trial 3 finished with value: 0.8750576302443521 and parameters: {'n_estimators': 340, 'max_depth': 8, 'learning_rate': 0.16516431339983068, 'subsample': 0.7741899424772339, 'colsample_bytree': 0.529485834862029, 'reg_alpha': 5.828753362438729, 'reg_lambda': 7.72975993110288, 'random_state': 89}. Best is trial 3 with value: 0.8750576302443521.\n"
     ]
    },
    {
     "name": "stdout",
     "output_type": "stream",
     "text": [
      "F1 score: 0.8750576302443521\n",
      "Cross-validation scores mean: 0.9934774761618919, std: 0.0002981460211679078\n",
      "Test score: 0.9938448678736298\n"
     ]
    },
    {
     "name": "stderr",
     "output_type": "stream",
     "text": [
      "[I 2023-11-22 12:22:11,291] Trial 4 finished with value: 0.8504155124653741 and parameters: {'n_estimators': 104, 'max_depth': 8, 'learning_rate': 0.06642556259005933, 'subsample': 0.7983042389634816, 'colsample_bytree': 0.5203144219304009, 'reg_alpha': 5.006287662273183, 'reg_lambda': 4.414605392727054, 'random_state': 90}. Best is trial 3 with value: 0.8750576302443521.\n"
     ]
    },
    {
     "name": "stdout",
     "output_type": "stream",
     "text": [
      "F1 score: 0.8504155124653741\n",
      "Cross-validation scores mean: 0.9940664029893321, std: 0.00030321508577192577\n",
      "Test score: 0.9946237580501149\n"
     ]
    },
    {
     "name": "stderr",
     "output_type": "stream",
     "text": [
      "[I 2023-11-22 12:22:38,839] Trial 5 finished with value: 0.8692840646651271 and parameters: {'n_estimators': 156, 'max_depth': 19, 'learning_rate': 0.07498321683510359, 'subsample': 0.7819824649521239, 'colsample_bytree': 0.9772290912898027, 'reg_alpha': 8.67295806111594, 'reg_lambda': 5.058455561606377, 'random_state': 71}. Best is trial 3 with value: 0.8750576302443521.\n"
     ]
    },
    {
     "name": "stdout",
     "output_type": "stream",
     "text": [
      "F1 score: 0.8692840646651271\n",
      "Cross-validation scores mean: 0.9944210259953966, std: 0.00026763152477321463\n",
      "Test score: 0.9950416991204241\n"
     ]
    },
    {
     "name": "stderr",
     "output_type": "stream",
     "text": [
      "[I 2023-11-22 12:23:54,072] Trial 6 finished with value: 0.8791106993978693 and parameters: {'n_estimators': 489, 'max_depth': 19, 'learning_rate': 0.12880158149618007, 'subsample': 0.9170933088641391, 'colsample_bytree': 0.5882721722668194, 'reg_alpha': 6.622351517778427, 'reg_lambda': 7.829456291185829, 'random_state': 25}. Best is trial 6 with value: 0.8791106993978693.\n"
     ]
    },
    {
     "name": "stdout",
     "output_type": "stream",
     "text": [
      "F1 score: 0.8791106993978693\n",
      "Cross-validation scores mean: 0.9941867213274387, std: 0.00025068836408983765\n",
      "Test score: 0.994737741978381\n"
     ]
    },
    {
     "name": "stderr",
     "output_type": "stream",
     "text": [
      "[I 2023-11-22 12:24:27,817] Trial 7 finished with value: 0.8720554272517321 and parameters: {'n_estimators': 208, 'max_depth': 9, 'learning_rate': 0.13093355151827962, 'subsample': 0.5322581571508307, 'colsample_bytree': 0.8191286667036459, 'reg_alpha': 6.7377171510413385, 'reg_lambda': 3.8596833291171326, 'random_state': 38}. Best is trial 6 with value: 0.8791106993978693.\n"
     ]
    },
    {
     "name": "stdout",
     "output_type": "stream",
     "text": [
      "F1 score: 0.8720554272517321\n",
      "Cross-validation scores mean: 0.9942563796339371, std: 0.00028440647447508234\n",
      "Test score: 0.9946427553714926\n"
     ]
    },
    {
     "name": "stderr",
     "output_type": "stream",
     "text": [
      "[I 2023-11-22 12:25:36,906] Trial 8 finished with value: 0.8693234476367007 and parameters: {'n_estimators': 460, 'max_depth': 17, 'learning_rate': 0.09526084547711926, 'subsample': 0.6859470178615387, 'colsample_bytree': 0.6347383184968797, 'reg_alpha': 7.69752070360425, 'reg_lambda': 5.315136077356809, 'random_state': 25}. Best is trial 6 with value: 0.8791106993978693.\n"
     ]
    },
    {
     "name": "stdout",
     "output_type": "stream",
     "text": [
      "F1 score: 0.8693234476367007\n",
      "Cross-validation scores mean: 0.9942183844208643, std: 0.0002620644910090554\n",
      "Test score: 0.9946047607287373\n"
     ]
    },
    {
     "name": "stderr",
     "output_type": "stream",
     "text": [
      "[I 2023-11-22 12:26:05,635] Trial 9 finished with value: 0.8683966635773864 and parameters: {'n_estimators': 170, 'max_depth': 8, 'learning_rate': 0.18432036616068254, 'subsample': 0.8097857604931381, 'colsample_bytree': 0.8701320449710453, 'reg_alpha': 6.464316048464663, 'reg_lambda': 2.9790430913197845, 'random_state': 87}. Best is trial 6 with value: 0.8791106993978693.\n"
     ]
    },
    {
     "name": "stdout",
     "output_type": "stream",
     "text": [
      "F1 score: 0.8683966635773864\n",
      "Cross-validation scores mean: 0.9942331604806316, std: 0.0003007879996913754\n",
      "Test score: 0.9945667660859818\n"
     ]
    },
    {
     "name": "stderr",
     "output_type": "stream",
     "text": [
      "[I 2023-11-22 12:27:12,301] Trial 10 finished with value: 0.8682027649769584 and parameters: {'n_estimators': 486, 'max_depth': 13, 'learning_rate': 0.017110327203010575, 'subsample': 0.9954287867967802, 'colsample_bytree': 0.6892865976233035, 'reg_alpha': 2.370348501566556, 'reg_lambda': 9.739170960240692, 'random_state': 7}. Best is trial 6 with value: 0.8791106993978693.\n"
     ]
    },
    {
     "name": "stdout",
     "output_type": "stream",
     "text": [
      "F1 score: 0.8682027649769584\n",
      "Cross-validation scores mean: 0.9945687857019317, std: 0.0002865222356920092\n",
      "Test score: 0.9952126750128232\n"
     ]
    },
    {
     "name": "stderr",
     "output_type": "stream",
     "text": [
      "[I 2023-11-22 12:28:15,187] Trial 11 finished with value: 0.8833333333333333 and parameters: {'n_estimators': 372, 'max_depth': 20, 'learning_rate': 0.17527190105922788, 'subsample': 0.8991704473053326, 'colsample_bytree': 0.5960476660216465, 'reg_alpha': 3.738329685836027, 'reg_lambda': 8.005945030948917, 'random_state': 64}. Best is trial 11 with value: 0.8833333333333333.\n"
     ]
    },
    {
     "name": "stdout",
     "output_type": "stream",
     "text": [
      "F1 score: 0.8833333333333333\n",
      "Cross-validation scores mean: 0.9945117928377651, std: 0.00026765898788928474\n",
      "Test score: 0.9951366857273124\n"
     ]
    },
    {
     "name": "stderr",
     "output_type": "stream",
     "text": [
      "[I 2023-11-22 12:29:21,668] Trial 12 finished with value: 0.8812615955473099 and parameters: {'n_estimators': 384, 'max_depth': 20, 'learning_rate': 0.19922897802787867, 'subsample': 0.9124843841393051, 'colsample_bytree': 0.653812066092082, 'reg_alpha': 3.306027426140244, 'reg_lambda': 7.634124318886118, 'random_state': 67}. Best is trial 11 with value: 0.8833333333333333.\n"
     ]
    },
    {
     "name": "stdout",
     "output_type": "stream",
     "text": [
      "F1 score: 0.8812615955473099\n",
      "Cross-validation scores mean: 0.9945286795372464, std: 0.00022719711525498188\n",
      "Test score: 0.9951556830486902\n"
     ]
    },
    {
     "name": "stderr",
     "output_type": "stream",
     "text": [
      "[I 2023-11-22 12:30:24,164] Trial 13 finished with value: 0.8819990745025451 and parameters: {'n_estimators': 363, 'max_depth': 20, 'learning_rate': 0.19686206012680568, 'subsample': 0.8851055521085065, 'colsample_bytree': 0.7095577604688943, 'reg_alpha': 2.668257368925432, 'reg_lambda': 7.3513383188017976, 'random_state': 65}. Best is trial 11 with value: 0.8833333333333333.\n"
     ]
    },
    {
     "name": "stdout",
     "output_type": "stream",
     "text": [
      "F1 score: 0.8819990745025451\n",
      "Cross-validation scores mean: 0.9942563794111525, std: 0.00028636263817940485\n",
      "Test score: 0.9947567392997587\n"
     ]
    },
    {
     "name": "stderr",
     "output_type": "stream",
     "text": [
      "[I 2023-11-22 12:30:58,962] Trial 14 finished with value: 0.8728110599078341 and parameters: {'n_estimators': 322, 'max_depth': 5, 'learning_rate': 0.16817918628765646, 'subsample': 0.879653932168148, 'colsample_bytree': 0.7423851298053032, 'reg_alpha': 0.9682164140204228, 'reg_lambda': 9.941698630449787, 'random_state': 66}. Best is trial 11 with value: 0.8833333333333333.\n"
     ]
    },
    {
     "name": "stdout",
     "output_type": "stream",
     "text": [
      "F1 score: 0.8728110599078341\n",
      "Cross-validation scores mean: 0.9945371227867339, std: 0.0002507838355534342\n",
      "Test score: 0.9951366857273124\n"
     ]
    },
    {
     "name": "stderr",
     "output_type": "stream",
     "text": [
      "[I 2023-11-22 12:32:04,581] Trial 15 finished with value: 0.8812615955473099 and parameters: {'n_estimators': 404, 'max_depth': 16, 'learning_rate': 0.1990911211515502, 'subsample': 0.9795507410644504, 'colsample_bytree': 0.7202123982207274, 'reg_alpha': 3.6591258010784182, 'reg_lambda': 6.627504944726399, 'random_state': 51}. Best is trial 11 with value: 0.8833333333333333.\n"
     ]
    },
    {
     "name": "stdout",
     "output_type": "stream",
     "text": [
      "F1 score: 0.8812615955473099\n",
      "Cross-validation scores mean: 0.9946869930661473, std: 0.00029706197884966804\n",
      "Test score: 0.9955166321548662\n"
     ]
    },
    {
     "name": "stderr",
     "output_type": "stream",
     "text": [
      "[I 2023-11-22 12:32:57,245] Trial 16 finished with value: 0.8901303538175046 and parameters: {'n_estimators': 269, 'max_depth': 18, 'learning_rate': 0.1625455025741216, 'subsample': 0.8764174359821452, 'colsample_bytree': 0.606095076121955, 'reg_alpha': 0.5612075815264514, 'reg_lambda': 8.971726361946647, 'random_state': 57}. Best is trial 16 with value: 0.8901303538175046.\n"
     ]
    },
    {
     "name": "stdout",
     "output_type": "stream",
     "text": [
      "F1 score: 0.8901303538175046\n",
      "Cross-validation scores mean: 0.9946131135693352, std: 0.00029750813283527076\n",
      "Test score: 0.9952696669769563\n"
     ]
    },
    {
     "name": "stderr",
     "output_type": "stream",
     "text": [
      "[I 2023-11-22 12:33:47,531] Trial 17 finished with value: 0.8844547563805105 and parameters: {'n_estimators': 268, 'max_depth': 17, 'learning_rate': 0.15329181038400722, 'subsample': 0.9459043310924892, 'colsample_bytree': 0.6022924656127395, 'reg_alpha': 0.18479212435779807, 'reg_lambda': 8.848433873198593, 'random_state': 54}. Best is trial 16 with value: 0.8901303538175046.\n"
     ]
    },
    {
     "name": "stdout",
     "output_type": "stream",
     "text": [
      "F1 score: 0.8844547563805105\n",
      "Cross-validation scores mean: 0.9946574412139542, std: 0.0002571704146165309\n",
      "Test score: 0.995345656262467\n"
     ]
    },
    {
     "name": "stderr",
     "output_type": "stream",
     "text": [
      "[I 2023-11-22 12:34:34,503] Trial 18 finished with value: 0.8864163189615206 and parameters: {'n_estimators': 265, 'max_depth': 14, 'learning_rate': 0.1484909741814863, 'subsample': 0.999786976219186, 'colsample_bytree': 0.5688441267143503, 'reg_alpha': 0.2986624259938565, 'reg_lambda': 9.221192276554913, 'random_state': 48}. Best is trial 16 with value: 0.8901303538175046.\n"
     ]
    },
    {
     "name": "stdout",
     "output_type": "stream",
     "text": [
      "F1 score: 0.8864163189615206\n",
      "Cross-validation scores mean: 0.9944970166666056, std: 0.00022817806044407723\n",
      "Test score: 0.9954026482266001\n"
     ]
    },
    {
     "name": "stderr",
     "output_type": "stream",
     "text": [
      "[I 2023-11-22 12:35:24,077] Trial 19 finished with value: 0.8880666049953748 and parameters: {'n_estimators': 268, 'max_depth': 13, 'learning_rate': 0.15228727575128587, 'subsample': 0.979852323220795, 'colsample_bytree': 0.5558802140930493, 'reg_alpha': 1.3869861603493692, 'reg_lambda': 9.026037960696009, 'random_state': 13}. Best is trial 16 with value: 0.8901303538175046.\n"
     ]
    },
    {
     "name": "stdout",
     "output_type": "stream",
     "text": [
      "F1 score: 0.8880666049953748\n",
      "Cross-validation scores mean: 0.9945392333596121, std: 0.0002475716774008461\n",
      "Test score: 0.9950416991204241\n"
     ]
    },
    {
     "name": "stderr",
     "output_type": "stream",
     "text": [
      "[I 2023-11-22 12:36:05,507] Trial 20 finished with value: 0.8791106993978693 and parameters: {'n_estimators': 227, 'max_depth': 11, 'learning_rate': 0.14743389105243487, 'subsample': 0.8466969034515933, 'colsample_bytree': 0.6533326651122154, 'reg_alpha': 1.462004031161469, 'reg_lambda': 8.696084290800563, 'random_state': 0}. Best is trial 16 with value: 0.8901303538175046.\n"
     ]
    },
    {
     "name": "stdout",
     "output_type": "stream",
     "text": [
      "F1 score: 0.8791106993978693\n",
      "Cross-validation scores mean: 0.9946553306633543, std: 0.0003339182139442644\n",
      "Test score: 0.9954216455479777\n"
     ]
    },
    {
     "name": "stderr",
     "output_type": "stream",
     "text": [
      "[I 2023-11-22 12:36:56,418] Trial 21 finished with value: 0.8886836027713627 and parameters: {'n_estimators': 287, 'max_depth': 13, 'learning_rate': 0.1488122077870393, 'subsample': 0.9919895635988948, 'colsample_bytree': 0.5518687131463249, 'reg_alpha': 0.11963020375188316, 'reg_lambda': 9.26273448030679, 'random_state': 17}. Best is trial 16 with value: 0.8901303538175046.\n"
     ]
    },
    {
     "name": "stdout",
     "output_type": "stream",
     "text": [
      "F1 score: 0.8886836027713627\n",
      "Cross-validation scores mean: 0.9945371228090123, std: 0.00020383737552778666\n",
      "Test score: 0.9953076616197116\n"
     ]
    },
    {
     "name": "stderr",
     "output_type": "stream",
     "text": [
      "[I 2023-11-22 12:37:51,148] Trial 22 finished with value: 0.885276358569438 and parameters: {'n_estimators': 302, 'max_depth': 12, 'learning_rate': 0.16607976467832217, 'subsample': 0.9493797819078768, 'colsample_bytree': 0.5471456274303909, 'reg_alpha': 1.6342237005985054, 'reg_lambda': 9.854535217191675, 'random_state': 12}. Best is trial 16 with value: 0.8901303538175046.\n"
     ]
    },
    {
     "name": "stdout",
     "output_type": "stream",
     "text": [
      "F1 score: 0.885276358569438\n",
      "Cross-validation scores mean: 0.9946110025508876, std: 0.0002489107759827567\n",
      "Test score: 0.9953646535838446\n"
     ]
    },
    {
     "name": "stderr",
     "output_type": "stream",
     "text": [
      "[I 2023-11-22 12:38:35,309] Trial 23 finished with value: 0.8873499538319484 and parameters: {'n_estimators': 233, 'max_depth': 13, 'learning_rate': 0.14262107070140498, 'subsample': 0.9614332586043115, 'colsample_bytree': 0.566287891154098, 'reg_alpha': 0.6816734750587656, 'reg_lambda': 8.911232115104402, 'random_state': 16}. Best is trial 16 with value: 0.8901303538175046.\n"
     ]
    },
    {
     "name": "stdout",
     "output_type": "stream",
     "text": [
      "F1 score: 0.8873499538319484\n",
      "Cross-validation scores mean: 0.9945624531812719, std: 0.00025455409378083053\n",
      "Test score: 0.9953836509052224\n"
     ]
    },
    {
     "name": "stderr",
     "output_type": "stream",
     "text": [
      "[I 2023-11-22 12:39:29,694] Trial 24 finished with value: 0.8876560332871012 and parameters: {'n_estimators': 291, 'max_depth': 15, 'learning_rate': 0.18160385572248597, 'subsample': 0.9976151741563117, 'colsample_bytree': 0.5036024524477848, 'reg_alpha': 1.5365464897899708, 'reg_lambda': 6.570056405986866, 'random_state': 37}. Best is trial 16 with value: 0.8901303538175046.\n"
     ]
    },
    {
     "name": "stdout",
     "output_type": "stream",
     "text": [
      "F1 score: 0.8876560332871012\n",
      "Cross-validation scores mean: 0.9945708964753163, std: 0.00020141667196201\n",
      "Test score: 0.9953836509052224\n"
     ]
    },
    {
     "name": "stderr",
     "output_type": "stream",
     "text": [
      "[I 2023-11-22 12:40:02,433] Trial 25 finished with value: 0.8880700138185168 and parameters: {'n_estimators': 177, 'max_depth': 11, 'learning_rate': 0.15852870654486848, 'subsample': 0.9414078491249978, 'colsample_bytree': 0.6207400407519007, 'reg_alpha': 0.3131661980159519, 'reg_lambda': 8.442401185167338, 'random_state': 18}. Best is trial 16 with value: 0.8901303538175046.\n"
     ]
    },
    {
     "name": "stdout",
     "output_type": "stream",
     "text": [
      "F1 score: 0.8880700138185168\n",
      "Cross-validation scores mean: 0.9940178538202227, std: 0.0002775052794097148\n",
      "Test score: 0.9943008035866943\n"
     ]
    },
    {
     "name": "stderr",
     "output_type": "stream",
     "text": [
      "[I 2023-11-22 12:40:26,364] Trial 26 finished with value: 0.8617511520737328 and parameters: {'n_estimators': 166, 'max_depth': 6, 'learning_rate': 0.11804661617934034, 'subsample': 0.9281825274774724, 'colsample_bytree': 0.6263344284450886, 'reg_alpha': 0.1192986039095392, 'reg_lambda': 8.226727921957176, 'random_state': 78}. Best is trial 16 with value: 0.8901303538175046.\n"
     ]
    },
    {
     "name": "stdout",
     "output_type": "stream",
     "text": [
      "F1 score: 0.8617511520737328\n",
      "Cross-validation scores mean: 0.9945708964084808, std: 0.00031876687752498904\n",
      "Test score: 0.9951746803700678\n"
     ]
    },
    {
     "name": "stderr",
     "output_type": "stream",
     "text": [
      "[I 2023-11-22 12:41:03,238] Trial 27 finished with value: 0.8826247689463955 and parameters: {'n_estimators': 204, 'max_depth': 11, 'learning_rate': 0.1571044471739783, 'subsample': 0.9329918784057998, 'colsample_bytree': 0.6738787052340882, 'reg_alpha': 0.8428574391200244, 'reg_lambda': 6.9780209326848155, 'random_state': 37}. Best is trial 16 with value: 0.8901303538175046.\n"
     ]
    },
    {
     "name": "stdout",
     "output_type": "stream",
     "text": [
      "F1 score: 0.8826247689463955\n",
      "Cross-validation scores mean: 0.994484351536172, std: 0.00026335111790543356\n",
      "Test score: 0.9951746803700678\n"
     ]
    },
    {
     "name": "stderr",
     "output_type": "stream",
     "text": [
      "[I 2023-11-22 12:41:31,030] Trial 28 finished with value: 0.8824074074074074 and parameters: {'n_estimators': 127, 'max_depth': 18, 'learning_rate': 0.18185160250295543, 'subsample': 0.8587235906591417, 'colsample_bytree': 0.6349346058998387, 'reg_alpha': 2.240870300901852, 'reg_lambda': 8.424601054686011, 'random_state': 20}. Best is trial 16 with value: 0.8901303538175046.\n"
     ]
    },
    {
     "name": "stdout",
     "output_type": "stream",
     "text": [
      "F1 score: 0.8824074074074074\n",
      "Cross-validation scores mean: 0.9946595522546804, std: 0.00025739079037540686\n",
      "Test score: 0.9950986910845571\n"
     ]
    },
    {
     "name": "stderr",
     "output_type": "stream",
     "text": [
      "[I 2023-11-22 12:42:13,826] Trial 29 finished with value: 0.8802228412256268 and parameters: {'n_estimators': 235, 'max_depth': 11, 'learning_rate': 0.13738288143364075, 'subsample': 0.9088497185066853, 'colsample_bytree': 0.6076378207544162, 'reg_alpha': 0.8347189764736457, 'reg_lambda': 9.304383151714646, 'random_state': 4}. Best is trial 16 with value: 0.8901303538175046.\n"
     ]
    },
    {
     "name": "stdout",
     "output_type": "stream",
     "text": [
      "F1 score: 0.8802228412256268\n",
      "Cross-validation scores mean: 0.9945645633754163, std: 0.0002691669502722164\n",
      "Test score: 0.9952126750128232\n"
     ]
    },
    {
     "name": "stderr",
     "output_type": "stream",
     "text": [
      "[I 2023-11-22 12:42:51,058] Trial 30 finished with value: 0.8837638376383764 and parameters: {'n_estimators': 192, 'max_depth': 15, 'learning_rate': 0.11218422708752614, 'subsample': 0.960327866886741, 'colsample_bytree': 0.5405482467015355, 'reg_alpha': 1.9485174350004208, 'reg_lambda': 6.023640602595895, 'random_state': 57}. Best is trial 16 with value: 0.8901303538175046.\n"
     ]
    },
    {
     "name": "stdout",
     "output_type": "stream",
     "text": [
      "F1 score: 0.8837638376383764\n",
      "Cross-validation scores mean: 0.9945877832416328, std: 0.00020931478636095782\n",
      "Test score: 0.9952316723342008\n"
     ]
    },
    {
     "name": "stderr",
     "output_type": "stream",
     "text": [
      "[I 2023-11-22 12:43:39,213] Trial 31 finished with value: 0.8833100883310088 and parameters: {'n_estimators': 267, 'max_depth': 12, 'learning_rate': 0.1528013064268024, 'subsample': 0.9707798284281366, 'colsample_bytree': 0.5656474827595922, 'reg_alpha': 1.1759420677315688, 'reg_lambda': 9.19650348113703, 'random_state': 10}. Best is trial 16 with value: 0.8901303538175046.\n"
     ]
    },
    {
     "name": "stdout",
     "output_type": "stream",
     "text": [
      "F1 score: 0.8833100883310088\n",
      "Cross-validation scores mean: 0.9946743282253339, std: 0.00038510456431015627\n",
      "Test score: 0.9951176884059347\n"
     ]
    },
    {
     "name": "stderr",
     "output_type": "stream",
     "text": [
      "[I 2023-11-22 12:44:39,204] Trial 32 finished with value: 0.8808530366249421 and parameters: {'n_estimators': 322, 'max_depth': 14, 'learning_rate': 0.16083204759625455, 'subsample': 0.965742018739358, 'colsample_bytree': 0.553952014113606, 'reg_alpha': 0.1022860516665226, 'reg_lambda': 8.33316625585312, 'random_state': 30}. Best is trial 16 with value: 0.8901303538175046.\n"
     ]
    },
    {
     "name": "stdout",
     "output_type": "stream",
     "text": [
      "F1 score: 0.8808530366249421\n",
      "Cross-validation scores mean: 0.9945561201482072, std: 0.0002489892988922379\n",
      "Test score: 0.9952126750128232\n"
     ]
    },
    {
     "name": "stderr",
     "output_type": "stream",
     "text": [
      "[I 2023-11-22 12:45:22,334] Trial 33 finished with value: 0.8837638376383764 and parameters: {'n_estimators': 248, 'max_depth': 10, 'learning_rate': 0.13943105383510723, 'subsample': 0.9284717356574393, 'colsample_bytree': 0.5966794699145859, 'reg_alpha': 1.1178317527254231, 'reg_lambda': 9.429113704544829, 'random_state': 19}. Best is trial 16 with value: 0.8901303538175046.\n"
     ]
    },
    {
     "name": "stdout",
     "output_type": "stream",
     "text": [
      "F1 score: 0.8837638376383764\n",
      "Cross-validation scores mean: 0.99409595506431, std: 0.00035626270300248797\n",
      "Test score: 0.9948517259066472\n"
     ]
    },
    {
     "name": "stderr",
     "output_type": "stream",
     "text": [
      "[I 2023-11-22 12:45:37,290] Trial 34 finished with value: 0.8751727314601567 and parameters: {'n_estimators': 50, 'max_depth': 14, 'learning_rate': 0.16840886113996242, 'subsample': 0.9707649510859533, 'colsample_bytree': 0.5157532193025465, 'reg_alpha': 2.010397058626018, 'reg_lambda': 9.9913325563769, 'random_state': 41}. Best is trial 16 with value: 0.8901303538175046.\n"
     ]
    },
    {
     "name": "stdout",
     "output_type": "stream",
     "text": [
      "F1 score: 0.8751727314601567\n",
      "Cross-validation scores mean: 0.9945751177101867, std: 0.00021865389711506027\n",
      "Test score: 0.9952316723342008\n"
     ]
    },
    {
     "name": "stderr",
     "output_type": "stream",
     "text": [
      "[I 2023-11-22 12:46:27,673] Trial 35 finished with value: 0.8841716658975542 and parameters: {'n_estimators': 308, 'max_depth': 10, 'learning_rate': 0.12407695048183873, 'subsample': 0.9409603353479353, 'colsample_bytree': 0.5429140421200456, 'reg_alpha': 0.5197800412544795, 'reg_lambda': 8.635518425511112, 'random_state': 31}. Best is trial 16 with value: 0.8901303538175046.\n"
     ]
    },
    {
     "name": "stdout",
     "output_type": "stream",
     "text": [
      "F1 score: 0.8841716658975542\n",
      "Cross-validation scores mean: 0.9946110021721536, std: 0.0002149131448803728\n",
      "Test score: 0.9952126750128232\n"
     ]
    },
    {
     "name": "stderr",
     "output_type": "stream",
     "text": [
      "[I 2023-11-22 12:47:30,890] Trial 36 finished with value: 0.8831168831168832 and parameters: {'n_estimators': 349, 'max_depth': 16, 'learning_rate': 0.1416959455662614, 'subsample': 0.999232006677563, 'colsample_bytree': 0.5014563482285104, 'reg_alpha': 1.404139804815173, 'reg_lambda': 7.425164520609135, 'random_state': 100}. Best is trial 16 with value: 0.8901303538175046.\n"
     ]
    },
    {
     "name": "stdout",
     "output_type": "stream",
     "text": [
      "F1 score: 0.8831168831168832\n",
      "Cross-validation scores mean: 0.9945392335155615, std: 0.00017515526595154974\n",
      "Test score: 0.9949467125135356\n",
      "F1 score: 0.8773062730627305\n"
     ]
    },
    {
     "name": "stderr",
     "output_type": "stream",
     "text": [
      "[I 2023-11-22 12:48:24,268] Trial 37 finished with value: 0.8773062730627305 and parameters: {'n_estimators': 420, 'max_depth': 7, 'learning_rate': 0.16071082384756039, 'subsample': 0.8752148116634567, 'colsample_bytree': 0.5787154943274442, 'reg_alpha': 0.6679298143861758, 'reg_lambda': 8.162570749168756, 'random_state': 16}. Best is trial 16 with value: 0.8901303538175046.\n"
     ]
    },
    {
     "name": "stdout",
     "output_type": "stream",
     "text": [
      "Cross-validation scores mean: 0.9942141626513104, std: 0.00017853441176797708\n",
      "Test score: 0.9949657098349133\n"
     ]
    },
    {
     "name": "stderr",
     "output_type": "stream",
     "text": [
      "[I 2023-11-22 12:48:47,085] Trial 38 finished with value: 0.8775981524249422 and parameters: {'n_estimators': 128, 'max_depth': 9, 'learning_rate': 0.13470037913244695, 'subsample': 0.9028251917954981, 'colsample_bytree': 0.6143610720979137, 'reg_alpha': 2.7637019404277043, 'reg_lambda': 9.140307149295603, 'random_state': 27}. Best is trial 16 with value: 0.8901303538175046.\n"
     ]
    },
    {
     "name": "stdout",
     "output_type": "stream",
     "text": [
      "F1 score: 0.8775981524249422\n",
      "Cross-validation scores mean: 0.9942078300860937, std: 0.0002837792249094671\n",
      "Test score: 0.9949087178707802\n"
     ]
    },
    {
     "name": "stderr",
     "output_type": "stream",
     "text": [
      "[I 2023-11-22 12:49:08,003] Trial 39 finished with value: 0.875925925925926 and parameters: {'n_estimators': 93, 'max_depth': 13, 'learning_rate': 0.12258859257132307, 'subsample': 0.8293769742081266, 'colsample_bytree': 0.5321197158107771, 'reg_alpha': 1.534133357955143, 'reg_lambda': 8.729378081925535, 'random_state': 2}. Best is trial 16 with value: 0.8901303538175046.\n"
     ]
    },
    {
     "name": "stdout",
     "output_type": "stream",
     "text": [
      "F1 score: 0.875925925925926\n",
      "Cross-validation scores mean: 0.9945075705558069, std: 0.0002531783312221837\n",
      "Test score: 0.9952316723342008\n"
     ]
    },
    {
     "name": "stderr",
     "output_type": "stream",
     "text": [
      "[I 2023-11-22 12:49:58,707] Trial 40 finished with value: 0.8838500694123091 and parameters: {'n_estimators': 288, 'max_depth': 12, 'learning_rate': 0.17444859810604613, 'subsample': 0.9303630543392557, 'colsample_bytree': 0.5736610713285051, 'reg_alpha': 4.412714128457076, 'reg_lambda': 7.8389112037185935, 'random_state': 44}. Best is trial 16 with value: 0.8901303538175046.\n"
     ]
    },
    {
     "name": "stdout",
     "output_type": "stream",
     "text": [
      "F1 score: 0.8838500694123091\n",
      "Cross-validation scores mean: 0.9945793397693606, std: 0.0002791219023155616\n",
      "Test score: 0.9952316723342008\n"
     ]
    },
    {
     "name": "stderr",
     "output_type": "stream",
     "text": [
      "[I 2023-11-22 12:50:54,947] Trial 41 finished with value: 0.8842784693407101 and parameters: {'n_estimators': 291, 'max_depth': 16, 'learning_rate': 0.18401285014138236, 'subsample': 0.9998402241822271, 'colsample_bytree': 0.5127392430036752, 'reg_alpha': 1.765813390861092, 'reg_lambda': 6.3866663161039225, 'random_state': 35}. Best is trial 16 with value: 0.8901303538175046.\n"
     ]
    },
    {
     "name": "stdout",
     "output_type": "stream",
     "text": [
      "F1 score: 0.8842784693407101\n",
      "Cross-validation scores mean: 0.9945645635982009, std: 0.0003104435408419573\n",
      "Test score: 0.9952316723342008\n"
     ]
    },
    {
     "name": "stderr",
     "output_type": "stream",
     "text": [
      "[I 2023-11-22 12:51:52,964] Trial 42 finished with value: 0.8835266821345706 and parameters: {'n_estimators': 331, 'max_depth': 15, 'learning_rate': 0.1551973949854592, 'subsample': 0.9769392558187713, 'colsample_bytree': 0.5299336853750696, 'reg_alpha': 1.1577668871763733, 'reg_lambda': 7.352292480816821, 'random_state': 23}. Best is trial 16 with value: 0.8901303538175046.\n"
     ]
    },
    {
     "name": "stdout",
     "output_type": "stream",
     "text": [
      "F1 score: 0.8835266821345706\n",
      "Cross-validation scores mean: 0.9945898941041312, std: 0.0002896176147308176\n",
      "Test score: 0.9953266589410893\n"
     ]
    },
    {
     "name": "stderr",
     "output_type": "stream",
     "text": [
      "[I 2023-11-22 12:52:42,030] Trial 43 finished with value: 0.8856877323420075 and parameters: {'n_estimators': 252, 'max_depth': 18, 'learning_rate': 0.17503226004139286, 'subsample': 0.9475005043594227, 'colsample_bytree': 0.5046427979676791, 'reg_alpha': 0.5901685002297777, 'reg_lambda': 9.496030815466657, 'random_state': 11}. Best is trial 16 with value: 0.8901303538175046.\n"
     ]
    },
    {
     "name": "stdout",
     "output_type": "stream",
     "text": [
      "F1 score: 0.8856877323420075\n",
      "Cross-validation scores mean: 0.9945434552628368, std: 0.000327687503635667\n",
      "Test score: 0.9953076616197116\n"
     ]
    },
    {
     "name": "stderr",
     "output_type": "stream",
     "text": [
      "[I 2023-11-22 12:53:18,486] Trial 44 finished with value: 0.8853828306264501 and parameters: {'n_estimators': 192, 'max_depth': 15, 'learning_rate': 0.18768279597999454, 'subsample': 0.9039091785096014, 'colsample_bytree': 0.5843498259492426, 'reg_alpha': 1.8584693371649403, 'reg_lambda': 8.33078931697128, 'random_state': 60}. Best is trial 16 with value: 0.8901303538175046.\n"
     ]
    },
    {
     "name": "stdout",
     "output_type": "stream",
     "text": [
      "F1 score: 0.8853828306264501\n",
      "Cross-validation scores mean: 0.994627889317204, std: 0.0002298705497512436\n",
      "Test score: 0.9951936776914455\n"
     ]
    },
    {
     "name": "stderr",
     "output_type": "stream",
     "text": [
      "[I 2023-11-22 12:54:11,036] Trial 45 finished with value: 0.8822708236389017 and parameters: {'n_estimators': 284, 'max_depth': 14, 'learning_rate': 0.1633098315633229, 'subsample': 0.9875346830428222, 'colsample_bytree': 0.5543534202916895, 'reg_alpha': 1.294011015608641, 'reg_lambda': 7.856770873763597, 'random_state': 33}. Best is trial 16 with value: 0.8901303538175046.\n"
     ]
    },
    {
     "name": "stdout",
     "output_type": "stream",
     "text": [
      "F1 score: 0.8822708236389017\n",
      "Cross-validation scores mean: 0.9946785498389383, std: 0.00031812089269367226\n",
      "Test score: 0.9950796937631794\n"
     ]
    },
    {
     "name": "stderr",
     "output_type": "stream",
     "text": [
      "[I 2023-11-22 12:54:51,158] Trial 46 finished with value: 0.8802588996763755 and parameters: {'n_estimators': 219, 'max_depth': 13, 'learning_rate': 0.1475980142284043, 'subsample': 0.9732769394669251, 'colsample_bytree': 0.528025920922957, 'reg_alpha': 0.4774417193976297, 'reg_lambda': 9.490638300158576, 'random_state': 43}. Best is trial 16 with value: 0.8901303538175046.\n"
     ]
    },
    {
     "name": "stdout",
     "output_type": "stream",
     "text": [
      "F1 score: 0.8802588996763755\n",
      "Cross-validation scores mean: 0.9944801298111752, std: 0.0003080631928012404\n",
      "Test score: 0.9950416991204241\n"
     ]
    },
    {
     "name": "stderr",
     "output_type": "stream",
     "text": [
      "[I 2023-11-22 12:55:20,920] Trial 47 finished with value: 0.8795569912321181 and parameters: {'n_estimators': 142, 'max_depth': 17, 'learning_rate': 0.13185598585406713, 'subsample': 0.9515765131414123, 'colsample_bytree': 0.6215108077311547, 'reg_alpha': 2.604857046179945, 'reg_lambda': 8.85126795989803, 'random_state': 6}. Best is trial 16 with value: 0.8901303538175046.\n"
     ]
    },
    {
     "name": "stdout",
     "output_type": "stream",
     "text": [
      "F1 score: 0.8795569912321181\n",
      "Cross-validation scores mean: 0.9945962267584619, std: 0.000238803826908748\n",
      "Test score: 0.995288664298334\n"
     ]
    },
    {
     "name": "stderr",
     "output_type": "stream",
     "text": [
      "[I 2023-11-22 12:56:18,316] Trial 48 finished with value: 0.8849721706864564 and parameters: {'n_estimators': 311, 'max_depth': 19, 'learning_rate': 0.1910238169919537, 'subsample': 0.926034336591432, 'colsample_bytree': 0.5866020460947751, 'reg_alpha': 0.8583372726058238, 'reg_lambda': 8.019007554253568, 'random_state': 15}. Best is trial 16 with value: 0.8901303538175046.\n"
     ]
    },
    {
     "name": "stdout",
     "output_type": "stream",
     "text": [
      "F1 score: 0.8849721706864564\n",
      "Cross-validation scores mean: 0.9947081016020178, std: 0.00028174197147115185\n",
      "Test score: 0.9951556830486902\n"
     ]
    },
    {
     "name": "stderr",
     "output_type": "stream",
     "text": [
      "[I 2023-11-22 12:57:13,881] Trial 49 finished with value: 0.8822170900692841 and parameters: {'n_estimators': 343, 'max_depth': 11, 'learning_rate': 0.17707282577320474, 'subsample': 0.9812148835724718, 'colsample_bytree': 0.5025283933086246, 'reg_alpha': 0.11795391289369644, 'reg_lambda': 7.0573809839528785, 'random_state': 27}. Best is trial 16 with value: 0.8901303538175046.\n"
     ]
    },
    {
     "name": "stdout",
     "output_type": "stream",
     "text": [
      "F1 score: 0.8822170900692841\n",
      "Cross-validation scores mean: 0.9944336909698809, std: 0.00026386201299245224\n",
      "Test score: 0.9951746803700678\n"
     ]
    },
    {
     "name": "stderr",
     "output_type": "stream",
     "text": [
      "[I 2023-11-22 12:57:45,766] Trial 50 finished with value: 0.8829493087557604 and parameters: {'n_estimators': 180, 'max_depth': 9, 'learning_rate': 0.17246855406973402, 'subsample': 0.8889801883537314, 'colsample_bytree': 0.653065734460322, 'reg_alpha': 2.1642076768262815, 'reg_lambda': 7.665787767360175, 'random_state': 76}. Best is trial 16 with value: 0.8901303538175046.\n"
     ]
    },
    {
     "name": "stdout",
     "output_type": "stream",
     "text": [
      "F1 score: 0.8829493087557604\n",
      "Cross-validation scores mean: 0.9946489980090236, std: 0.0002190479824323335\n",
      "Test score: 0.9953836509052224\n"
     ]
    },
    {
     "name": "stderr",
     "output_type": "stream",
     "text": [
      "[I 2023-11-22 12:58:31,428] Trial 51 finished with value: 0.8871342313051557 and parameters: {'n_estimators': 244, 'max_depth': 13, 'learning_rate': 0.14243296056132498, 'subsample': 0.9582956292004469, 'colsample_bytree': 0.5587617786553669, 'reg_alpha': 0.6026916360954239, 'reg_lambda': 8.967905176090872, 'random_state': 21}. Best is trial 16 with value: 0.8901303538175046.\n"
     ]
    },
    {
     "name": "stdout",
     "output_type": "stream",
     "text": [
      "F1 score: 0.8871342313051557\n",
      "Cross-validation scores mean: 0.9944927952089504, std: 0.0002836134551573707\n",
      "Test score: 0.9950986910845571\n"
     ]
    },
    {
     "name": "stderr",
     "output_type": "stream",
     "text": [
      "[I 2023-11-22 12:59:11,361] Trial 52 finished with value: 0.8811059907834102 and parameters: {'n_estimators': 212, 'max_depth': 12, 'learning_rate': 0.1595197905488747, 'subsample': 0.9569982412553295, 'colsample_bytree': 0.5729614363713303, 'reg_alpha': 0.9911929973310011, 'reg_lambda': 9.596115956432223, 'random_state': 16}. Best is trial 16 with value: 0.8901303538175046.\n"
     ]
    },
    {
     "name": "stdout",
     "output_type": "stream",
     "text": [
      "F1 score: 0.8811059907834102\n",
      "Cross-validation scores mean: 0.994560342251938, std: 0.0002818194553966645\n",
      "Test score: 0.994984707156291\n"
     ]
    },
    {
     "name": "stderr",
     "output_type": "stream",
     "text": [
      "[I 2023-11-22 12:59:54,335] Trial 53 finished with value: 0.8772093023255814 and parameters: {'n_estimators': 228, 'max_depth': 14, 'learning_rate': 0.14669895691750864, 'subsample': 0.9151662282364522, 'colsample_bytree': 0.6020553353348066, 'reg_alpha': 1.5521129469173167, 'reg_lambda': 8.594446350647244, 'random_state': 8}. Best is trial 16 with value: 0.8901303538175046.\n"
     ]
    },
    {
     "name": "stdout",
     "output_type": "stream",
     "text": [
      "F1 score: 0.8772093023255814\n",
      "Cross-validation scores mean: 0.9946278893840395, std: 0.00027211993013704684\n",
      "Test score: 0.9952506696555785\n"
     ]
    },
    {
     "name": "stderr",
     "output_type": "stream",
     "text": [
      "[I 2023-11-22 13:00:41,726] Trial 54 finished with value: 0.8843663274745607 and parameters: {'n_estimators': 261, 'max_depth': 13, 'learning_rate': 0.16391963758644593, 'subsample': 0.9871424210309482, 'colsample_bytree': 0.5306861049939526, 'reg_alpha': 0.448721491451531, 'reg_lambda': 8.988097253817354, 'random_state': 17}. Best is trial 16 with value: 0.8901303538175046.\n"
     ]
    },
    {
     "name": "stdout",
     "output_type": "stream",
     "text": [
      "F1 score: 0.8843663274745607\n",
      "Cross-validation scores mean: 0.9945687852118054, std: 0.0002077444051921044\n",
      "Test score: 0.995345656262467\n"
     ]
    },
    {
     "name": "stderr",
     "output_type": "stream",
     "text": [
      "[I 2023-11-22 13:01:29,798] Trial 55 finished with value: 0.8868360277136258 and parameters: {'n_estimators': 280, 'max_depth': 12, 'learning_rate': 0.1525051807415497, 'subsample': 0.9399210021188533, 'colsample_bytree': 0.5636305758003978, 'reg_alpha': 1.1217284080313146, 'reg_lambda': 9.679278051983689, 'random_state': 13}. Best is trial 16 with value: 0.8901303538175046.\n"
     ]
    },
    {
     "name": "stdout",
     "output_type": "stream",
     "text": [
      "F1 score: 0.8868360277136258\n",
      "Cross-validation scores mean: 0.9946236674585365, std: 0.00018851082519103483\n",
      "Test score: 0.9954026482266001\n"
     ]
    },
    {
     "name": "stderr",
     "output_type": "stream",
     "text": [
      "[I 2023-11-22 13:02:18,398] Trial 56 finished with value: 0.8883763837638375 and parameters: {'n_estimators': 300, 'max_depth': 11, 'learning_rate': 0.13218272577549853, 'subsample': 0.9838152533010083, 'colsample_bytree': 0.5481329188421035, 'reg_alpha': 0.8254808763385282, 'reg_lambda': 8.484482697205848, 'random_state': 24}. Best is trial 16 with value: 0.8901303538175046.\n"
     ]
    },
    {
     "name": "stdout",
     "output_type": "stream",
     "text": [
      "F1 score: 0.8883763837638375\n",
      "Cross-validation scores mean: 0.9946532193775649, std: 0.0003251352380131883\n",
      "Test score: 0.9952316723342008\n"
     ]
    },
    {
     "name": "stderr",
     "output_type": "stream",
     "text": [
      "[I 2023-11-22 13:03:03,301] Trial 57 finished with value: 0.8839574664817382 and parameters: {'n_estimators': 299, 'max_depth': 10, 'learning_rate': 0.13346681307278715, 'subsample': 0.9832803036723816, 'colsample_bytree': 0.5476275779807328, 'reg_alpha': 1.7313949421051777, 'reg_lambda': 8.387376187385094, 'random_state': 51}. Best is trial 16 with value: 0.8901303538175046.\n"
     ]
    },
    {
     "name": "stdout",
     "output_type": "stream",
     "text": [
      "F1 score: 0.8839574664817382\n",
      "Cross-validation scores mean: 0.9946257780759717, std: 0.0002488129286055483\n",
      "Test score: 0.995345656262467\n"
     ]
    },
    {
     "name": "stderr",
     "output_type": "stream",
     "text": [
      "[I 2023-11-22 13:03:59,969] Trial 58 finished with value: 0.8868360277136258 and parameters: {'n_estimators': 363, 'max_depth': 11, 'learning_rate': 0.12902475505311334, 'subsample': 0.9139655834246211, 'colsample_bytree': 0.5214886137557804, 'reg_alpha': 0.3910218108817318, 'reg_lambda': 7.63897289338112, 'random_state': 24}. Best is trial 16 with value: 0.8901303538175046.\n"
     ]
    },
    {
     "name": "stdout",
     "output_type": "stream",
     "text": [
      "F1 score: 0.8868360277136258\n",
      "Cross-validation scores mean: 0.9945603420737102, std: 0.00015761292158731697\n",
      "Test score: 0.9950796937631794\n"
     ]
    },
    {
     "name": "stderr",
     "output_type": "stream",
     "text": [
      "[I 2023-11-22 13:04:50,345] Trial 59 finished with value: 0.8802588996763755 and parameters: {'n_estimators': 390, 'max_depth': 8, 'learning_rate': 0.1814121258857098, 'subsample': 0.9938846371369608, 'colsample_bytree': 0.5972022889764712, 'reg_alpha': 1.3981962791793299, 'reg_lambda': 8.028168487822175, 'random_state': 39}. Best is trial 16 with value: 0.8901303538175046.\n"
     ]
    },
    {
     "name": "stdout",
     "output_type": "stream",
     "text": [
      "F1 score: 0.8802588996763755\n",
      "Cross-validation scores mean: 0.9945941154281155, std: 0.0002686996647794992\n",
      "Test score: 0.9952506696555785\n"
     ]
    },
    {
     "name": "stderr",
     "output_type": "stream",
     "text": [
      "[I 2023-11-22 13:05:38,010] Trial 60 finished with value: 0.8841519925857275 and parameters: {'n_estimators': 273, 'max_depth': 16, 'learning_rate': 0.1922905447359999, 'subsample': 0.9491272186446297, 'colsample_bytree': 0.6378544288989064, 'reg_alpha': 2.396208348554602, 'reg_lambda': 9.121535657433869, 'random_state': 28}. Best is trial 16 with value: 0.8901303538175046.\n"
     ]
    },
    {
     "name": "stdout",
     "output_type": "stream",
     "text": [
      "F1 score: 0.8841519925857275\n",
      "Cross-validation scores mean: 0.994617335294332, std: 0.0003079857535892237\n",
      "Test score: 0.9951556830486902\n"
     ]
    },
    {
     "name": "stderr",
     "output_type": "stream",
     "text": [
      "[I 2023-11-22 13:06:20,667] Trial 61 finished with value: 0.8816705336426914 and parameters: {'n_estimators': 239, 'max_depth': 13, 'learning_rate': 0.16909394033560887, 'subsample': 0.962365466335937, 'colsample_bytree': 0.5833256924493453, 'reg_alpha': 0.8448101278809714, 'reg_lambda': 9.99725787831293, 'random_state': 21}. Best is trial 16 with value: 0.8901303538175046.\n"
     ]
    },
    {
     "name": "stdout",
     "output_type": "stream",
     "text": [
      "F1 score: 0.8816705336426914\n",
      "Cross-validation scores mean: 0.994577229129647, std: 0.0002875153588930428\n",
      "Test score: 0.9953646535838446\n"
     ]
    },
    {
     "name": "stderr",
     "output_type": "stream",
     "text": [
      "[I 2023-11-22 13:07:11,993] Trial 62 finished with value: 0.8871415356151712 and parameters: {'n_estimators': 320, 'max_depth': 11, 'learning_rate': 0.1441520810893415, 'subsample': 0.9720180600354402, 'colsample_bytree': 0.5617269859973939, 'reg_alpha': 0.7685898610119049, 'reg_lambda': 8.781592706740321, 'random_state': 9}. Best is trial 16 with value: 0.8901303538175046.\n"
     ]
    },
    {
     "name": "stdout",
     "output_type": "stream",
     "text": [
      "F1 score: 0.8871415356151712\n",
      "Cross-validation scores mean: 0.9946110025063307, std: 0.00024927011023910095\n",
      "Test score: 0.9950986910845571\n"
     ]
    },
    {
     "name": "stderr",
     "output_type": "stream",
     "text": [
      "[I 2023-11-22 13:07:50,034] Trial 63 finished with value: 0.8809963099630996 and parameters: {'n_estimators': 259, 'max_depth': 9, 'learning_rate': 0.1533978781183684, 'subsample': 0.9395409870965986, 'colsample_bytree': 0.6177141016278082, 'reg_alpha': 0.10815105278524628, 'reg_lambda': 9.314728458811025, 'random_state': 13}. Best is trial 16 with value: 0.8901303538175046.\n"
     ]
    },
    {
     "name": "stdout",
     "output_type": "stream",
     "text": [
      "F1 score: 0.8809963099630996\n",
      "Cross-validation scores mean: 0.9946278891389764, std: 0.0002146385255403294\n",
      "Test score: 0.9951936776914455\n"
     ]
    },
    {
     "name": "stderr",
     "output_type": "stream",
     "text": [
      "[I 2023-11-22 13:08:25,830] Trial 64 finished with value: 0.8828161185734136 and parameters: {'n_estimators': 200, 'max_depth': 12, 'learning_rate': 0.13623500938190253, 'subsample': 0.9648991521242861, 'colsample_bytree': 0.5399699004835825, 'reg_alpha': 0.4174183304411085, 'reg_lambda': 8.413420441509738, 'random_state': 18}. Best is trial 16 with value: 0.8901303538175046.\n"
     ]
    },
    {
     "name": "stdout",
     "output_type": "stream",
     "text": [
      "F1 score: 0.8828161185734136\n",
      "Cross-validation scores mean: 0.9945962264911202, std: 0.00022616016803896877\n",
      "Test score: 0.9952696669769563\n"
     ]
    },
    {
     "name": "stderr",
     "output_type": "stream",
     "text": [
      "[I 2023-11-22 13:08:56,477] Trial 65 finished with value: 0.8850946008306415 and parameters: {'n_estimators': 157, 'max_depth': 14, 'learning_rate': 0.15846716848975775, 'subsample': 0.9998787657048407, 'colsample_bytree': 0.5220506447472073, 'reg_alpha': 1.1219402966045569, 'reg_lambda': 9.674618063183058, 'random_state': 59}. Best is trial 16 with value: 0.8901303538175046.\n"
     ]
    },
    {
     "name": "stdout",
     "output_type": "stream",
     "text": [
      "F1 score: 0.8850946008306415\n",
      "Cross-validation scores mean: 0.9946046699856709, std: 0.00027297067282904176\n",
      "Test score: 0.9953076616197116\n"
     ]
    },
    {
     "name": "stderr",
     "output_type": "stream",
     "text": [
      "[I 2023-11-22 13:09:49,153] Trial 66 finished with value: 0.8857010643220732 and parameters: {'n_estimators': 298, 'max_depth': 15, 'learning_rate': 0.14869371716474955, 'subsample': 0.9813674508118184, 'colsample_bytree': 0.5473577730455279, 'reg_alpha': 0.8610511111981467, 'reg_lambda': 9.077263480255272, 'random_state': 46}. Best is trial 16 with value: 0.8901303538175046.\n"
     ]
    },
    {
     "name": "stdout",
     "output_type": "stream",
     "text": [
      "F1 score: 0.8857010643220732\n",
      "Cross-validation scores mean: 0.9946257788111612, std: 0.00030554339089695605\n",
      "Test score: 0.9951176884059347\n"
     ]
    },
    {
     "name": "stderr",
     "output_type": "stream",
     "text": [
      "[I 2023-11-22 13:10:31,419] Trial 67 finished with value: 0.88029809035864 and parameters: {'n_estimators': 224, 'max_depth': 18, 'learning_rate': 0.1395961771126678, 'subsample': 0.9228905748900664, 'colsample_bytree': 0.6056887416435204, 'reg_alpha': 1.382357569322759, 'reg_lambda': 8.597964813688906, 'random_state': 23}. Best is trial 16 with value: 0.8901303538175046.\n"
     ]
    },
    {
     "name": "stdout",
     "output_type": "stream",
     "text": [
      "F1 score: 0.88029809035864\n",
      "Cross-validation scores mean: 0.9945603418063685, std: 0.000267803340945875\n",
      "Test score: 0.9950796937631794\n"
     ]
    },
    {
     "name": "stderr",
     "output_type": "stream",
     "text": [
      "[I 2023-11-22 13:11:16,342] Trial 68 finished with value: 0.8797027403622851 and parameters: {'n_estimators': 276, 'max_depth': 10, 'learning_rate': 0.16686322444412693, 'subsample': 0.8917161338602623, 'colsample_bytree': 0.5710338560755094, 'reg_alpha': 1.9736634037947784, 'reg_lambda': 8.12768226451726, 'random_state': 3}. Best is trial 16 with value: 0.8901303538175046.\n"
     ]
    },
    {
     "name": "stdout",
     "output_type": "stream",
     "text": [
      "F1 score: 0.8797027403622851\n",
      "Cross-validation scores mean: 0.9946278891389764, std: 0.00026515787593297125\n",
      "Test score: 0.9952316723342008\n"
     ]
    },
    {
     "name": "stderr",
     "output_type": "stream",
     "text": [
      "[I 2023-11-22 13:12:08,179] Trial 69 finished with value: 0.8838500694123091 and parameters: {'n_estimators': 313, 'max_depth': 12, 'learning_rate': 0.10933603945226737, 'subsample': 0.9585723767550206, 'colsample_bytree': 0.5866972569162622, 'reg_alpha': 0.2908595205672958, 'reg_lambda': 8.918441532926208, 'random_state': 55}. Best is trial 16 with value: 0.8901303538175046.\n"
     ]
    },
    {
     "name": "stdout",
     "output_type": "stream",
     "text": [
      "F1 score: 0.8838500694123091\n",
      "Cross-validation scores mean: 0.9945856721340712, std: 0.00025487685878505367\n",
      "Test score: 0.9953646535838446\n"
     ]
    },
    {
     "name": "stderr",
     "output_type": "stream",
     "text": [
      "[I 2023-11-22 13:13:02,783] Trial 70 finished with value: 0.8871415356151712 and parameters: {'n_estimators': 333, 'max_depth': 11, 'learning_rate': 0.1202006486323765, 'subsample': 0.9322602481560087, 'colsample_bytree': 0.5162796320504695, 'reg_alpha': 0.791481948644238, 'reg_lambda': 9.275466646627729, 'random_state': 32}. Best is trial 16 with value: 0.8901303538175046.\n"
     ]
    },
    {
     "name": "stdout",
     "output_type": "stream",
     "text": [
      "F1 score: 0.8871415356151712\n",
      "Cross-validation scores mean: 0.9946194459786029, std: 0.0002622303973019492\n",
      "Test score: 0.9950796937631794\n"
     ]
    },
    {
     "name": "stderr",
     "output_type": "stream",
     "text": [
      "[I 2023-11-22 13:13:53,877] Trial 71 finished with value: 0.8795908879590888 and parameters: {'n_estimators': 315, 'max_depth': 11, 'learning_rate': 0.14369119858184068, 'subsample': 0.9708323341581261, 'colsample_bytree': 0.5568030768393857, 'reg_alpha': 0.6202950179522309, 'reg_lambda': 8.67676442651744, 'random_state': 8}. Best is trial 16 with value: 0.8901303538175046.\n"
     ]
    },
    {
     "name": "stdout",
     "output_type": "stream",
     "text": [
      "F1 score: 0.8795908879590888\n",
      "Cross-validation scores mean: 0.994554009530772, std: 0.00025531062008239366\n",
      "Test score: 0.9951746803700678\n"
     ]
    },
    {
     "name": "stderr",
     "output_type": "stream",
     "text": [
      "[I 2023-11-22 13:14:42,649] Trial 72 finished with value: 0.8822984244670992 and parameters: {'n_estimators': 292, 'max_depth': 13, 'learning_rate': 0.12819872848255873, 'subsample': 0.9836574021490652, 'colsample_bytree': 0.5650359785029195, 'reg_alpha': 1.0742433432582836, 'reg_lambda': 8.584164966104902, 'random_state': 10}. Best is trial 16 with value: 0.8901303538175046.\n"
     ]
    },
    {
     "name": "stdout",
     "output_type": "stream",
     "text": [
      "F1 score: 0.8822984244670992\n",
      "Cross-validation scores mean: 0.9945223469274727, std: 0.00025600530993775755\n",
      "Test score: 0.9951936776914455\n"
     ]
    },
    {
     "name": "stderr",
     "output_type": "stream",
     "text": [
      "[I 2023-11-22 13:15:36,489] Trial 73 finished with value: 0.882924571957427 and parameters: {'n_estimators': 354, 'max_depth': 10, 'learning_rate': 0.1560817102868205, 'subsample': 0.9718347709317163, 'colsample_bytree': 0.5453965861785216, 'reg_alpha': 1.6374656051330472, 'reg_lambda': 8.16416544489391, 'random_state': 0}. Best is trial 16 with value: 0.8901303538175046.\n"
     ]
    },
    {
     "name": "stdout",
     "output_type": "stream",
     "text": [
      "F1 score: 0.882924571957427\n",
      "Cross-validation scores mean: 0.9946806604786522, std: 0.00021598102564859595\n",
      "Test score: 0.9953646535838446\n"
     ]
    },
    {
     "name": "stderr",
     "output_type": "stream",
     "text": [
      "[I 2023-11-22 13:16:30,489] Trial 74 finished with value: 0.8870370370370371 and parameters: {'n_estimators': 330, 'max_depth': 11, 'learning_rate': 0.1520106145826063, 'subsample': 0.9431895854171656, 'colsample_bytree': 0.5350579303546148, 'reg_alpha': 0.6803535293775168, 'reg_lambda': 8.870559492023634, 'random_state': 15}. Best is trial 16 with value: 0.8901303538175046.\n"
     ]
    },
    {
     "name": "stdout",
     "output_type": "stream",
     "text": [
      "F1 score: 0.8870370370370371\n",
      "Cross-validation scores mean: 0.9945983375986817, std: 0.000280295666028523\n",
      "Test score: 0.9952126750128232\n"
     ]
    },
    {
     "name": "stderr",
     "output_type": "stream",
     "text": [
      "[I 2023-11-22 13:17:16,960] Trial 75 finished with value: 0.8835489833641403 and parameters: {'n_estimators': 256, 'max_depth': 14, 'learning_rate': 0.1413873288314573, 'subsample': 0.9987394881595656, 'colsample_bytree': 0.5934013561156479, 'reg_alpha': 1.302384713108355, 'reg_lambda': 9.766367684164724, 'random_state': 5}. Best is trial 16 with value: 0.8901303538175046.\n"
     ]
    },
    {
     "name": "stdout",
     "output_type": "stream",
     "text": [
      "F1 score: 0.8835489833641403\n",
      "Cross-validation scores mean: 0.9945561204823843, std: 0.00027141559601798193\n",
      "Test score: 0.9950606964418017\n"
     ]
    },
    {
     "name": "stderr",
     "output_type": "stream",
     "text": [
      "[I 2023-11-22 13:18:05,362] Trial 76 finished with value: 0.8795180722891567 and parameters: {'n_estimators': 270, 'max_depth': 12, 'learning_rate': 0.16257970641207026, 'subsample': 0.8724335375070852, 'colsample_bytree': 0.5751763962660085, 'reg_alpha': 0.26645786598177224, 'reg_lambda': 9.40177893412614, 'random_state': 20}. Best is trial 16 with value: 0.8901303538175046.\n"
     ]
    },
    {
     "name": "stdout",
     "output_type": "stream",
     "text": [
      "F1 score: 0.8795180722891567\n",
      "Cross-validation scores mean: 0.9946532193775649, std: 0.00028245579334132203\n",
      "Test score: 0.9952126750128232\n"
     ]
    },
    {
     "name": "stderr",
     "output_type": "stream",
     "text": [
      "[I 2023-11-22 13:18:48,741] Trial 77 finished with value: 0.8837638376383764 and parameters: {'n_estimators': 236, 'max_depth': 15, 'learning_rate': 0.14503968990255092, 'subsample': 0.9575697862938514, 'colsample_bytree': 0.500640642985558, 'reg_alpha': 0.9164254391371595, 'reg_lambda': 7.799090722993008, 'random_state': 36}. Best is trial 16 with value: 0.8901303538175046.\n"
     ]
    },
    {
     "name": "stdout",
     "output_type": "stream",
     "text": [
      "F1 score: 0.8837638376383764\n",
      "Cross-validation scores mean: 0.9946679952368263, std: 0.0003240245828577321\n",
      "Test score: 0.9952696669769563\n"
     ]
    },
    {
     "name": "stderr",
     "output_type": "stream",
     "text": [
      "[I 2023-11-22 13:19:22,461] Trial 78 finished with value: 0.8846688281611857 and parameters: {'n_estimators': 181, 'max_depth': 13, 'learning_rate': 0.1495364159663522, 'subsample': 0.9858179208262611, 'colsample_bytree': 0.6096769907575676, 'reg_alpha': 0.4303733583607228, 'reg_lambda': 8.368286229666687, 'random_state': 29}. Best is trial 16 with value: 0.8901303538175046.\n"
     ]
    },
    {
     "name": "stdout",
     "output_type": "stream",
     "text": [
      "F1 score: 0.8846688281611857\n",
      "Cross-validation scores mean: 0.9946067806476631, std: 0.00022635928280699492\n",
      "Test score: 0.9951746803700678\n"
     ]
    },
    {
     "name": "stderr",
     "output_type": "stream",
     "text": [
      "[I 2023-11-22 13:20:20,154] Trial 79 finished with value: 0.8824074074074074 and parameters: {'n_estimators': 323, 'max_depth': 19, 'learning_rate': 0.13660875196897146, 'subsample': 0.9041666708220917, 'colsample_bytree': 0.5581726734382305, 'reg_alpha': 1.6281756472462918, 'reg_lambda': 7.500862977946557, 'random_state': 63}. Best is trial 16 with value: 0.8901303538175046.\n"
     ]
    },
    {
     "name": "stdout",
     "output_type": "stream",
     "text": [
      "F1 score: 0.8824074074074074\n",
      "Cross-validation scores mean: 0.994575117910693, std: 0.000178232927973771\n",
      "Test score: 0.9950037044776686\n"
     ]
    },
    {
     "name": "stderr",
     "output_type": "stream",
     "text": [
      "[I 2023-11-22 13:21:04,374] Trial 80 finished with value: 0.8785219399538106 and parameters: {'n_estimators': 284, 'max_depth': 9, 'learning_rate': 0.16957397024046858, 'subsample': 0.9173155552275347, 'colsample_bytree': 0.5181282957317093, 'reg_alpha': 0.6928363115231032, 'reg_lambda': 7.166009838570709, 'random_state': 25}. Best is trial 16 with value: 0.8901303538175046.\n"
     ]
    },
    {
     "name": "stdout",
     "output_type": "stream",
     "text": [
      "F1 score: 0.8785219399538106\n",
      "Cross-validation scores mean: 0.994619445844932, std: 0.000279026838469702\n",
      "Test score: 0.9954026482266001\n"
     ]
    },
    {
     "name": "stderr",
     "output_type": "stream",
     "text": [
      "[I 2023-11-22 13:21:57,187] Trial 81 finished with value: 0.8882733148661126 and parameters: {'n_estimators': 336, 'max_depth': 10, 'learning_rate': 0.12141691742873431, 'subsample': 0.9733356911743437, 'colsample_bytree': 0.5127476292452824, 'reg_alpha': 0.8365061973421386, 'reg_lambda': 9.301349552305606, 'random_state': 32}. Best is trial 16 with value: 0.8901303538175046.\n"
     ]
    },
    {
     "name": "stdout",
     "output_type": "stream",
     "text": [
      "F1 score: 0.8882733148661126\n",
      "Cross-validation scores mean: 0.9946553301286711, std: 0.00016761927662912755\n",
      "Test score: 0.9952316723342008\n"
     ]
    },
    {
     "name": "stderr",
     "output_type": "stream",
     "text": [
      "[I 2023-11-22 13:22:51,056] Trial 82 finished with value: 0.8839574664817382 and parameters: {'n_estimators': 374, 'max_depth': 10, 'learning_rate': 0.12508728751316364, 'subsample': 0.9695380169065133, 'colsample_bytree': 0.5338415704982387, 'reg_alpha': 0.3249066545784628, 'reg_lambda': 9.218999849618061, 'random_state': 34}. Best is trial 16 with value: 0.8901303538175046.\n"
     ]
    },
    {
     "name": "stdout",
     "output_type": "stream",
     "text": [
      "F1 score: 0.8839574664817382\n",
      "Cross-validation scores mean: 0.9945582312780473, std: 0.00021177160179085608\n",
      "Test score: 0.995345656262467\n"
     ]
    },
    {
     "name": "stderr",
     "output_type": "stream",
     "text": [
      "[I 2023-11-22 13:23:39,307] Trial 83 finished with value: 0.8868360277136258 and parameters: {'n_estimators': 301, 'max_depth': 11, 'learning_rate': 0.11785115276097782, 'subsample': 0.9445702865866072, 'colsample_bytree': 0.5128340949414171, 'reg_alpha': 1.2071972129184392, 'reg_lambda': 8.873311824466061, 'random_state': 13}. Best is trial 16 with value: 0.8901303538175046.\n"
     ]
    },
    {
     "name": "stdout",
     "output_type": "stream",
     "text": [
      "F1 score: 0.8868360277136258\n",
      "Cross-validation scores mean: 0.9946004479710538, std: 0.0002602079689664462\n",
      "Test score: 0.9952506696555785\n"
     ]
    },
    {
     "name": "stderr",
     "output_type": "stream",
     "text": [
      "[I 2023-11-22 13:24:33,934] Trial 84 finished with value: 0.8848987108655616 and parameters: {'n_estimators': 354, 'max_depth': 11, 'learning_rate': 0.12968702364054158, 'subsample': 0.9753197815614207, 'colsample_bytree': 0.5441134517756695, 'reg_alpha': 0.6219968275056118, 'reg_lambda': 9.533368302032157, 'random_state': 26}. Best is trial 16 with value: 0.8901303538175046.\n"
     ]
    },
    {
     "name": "stdout",
     "output_type": "stream",
     "text": [
      "F1 score: 0.8848987108655616\n",
      "Cross-validation scores mean: 0.9945687852563623, std: 0.00023032283964500512\n",
      "Test score: 0.9953836509052224\n"
     ]
    },
    {
     "name": "stderr",
     "output_type": "stream",
     "text": [
      "[I 2023-11-22 13:25:13,708] Trial 85 finished with value: 0.8884809545663148 and parameters: {'n_estimators': 251, 'max_depth': 10, 'learning_rate': 0.14435917739017406, 'subsample': 0.9527520573483528, 'colsample_bytree': 0.5793863822267448, 'reg_alpha': 0.10391364519634338, 'reg_lambda': 9.064137716272674, 'random_state': 71}. Best is trial 16 with value: 0.8901303538175046.\n"
     ]
    },
    {
     "name": "stdout",
     "output_type": "stream",
     "text": [
      "F1 score: 0.8884809545663148\n",
      "Cross-validation scores mean: 0.9944780188818413, std: 0.00019269467449957897\n",
      "Test score: 0.9951176884059347\n"
     ]
    },
    {
     "name": "stderr",
     "output_type": "stream",
     "text": [
      "[I 2023-11-22 13:25:46,465] Trial 86 finished with value: 0.8820559889857733 and parameters: {'n_estimators': 248, 'max_depth': 7, 'learning_rate': 0.15693280246737, 'subsample': 0.9342797117449413, 'colsample_bytree': 0.5795626286506409, 'reg_alpha': 0.2818659445848227, 'reg_lambda': 9.119533832306056, 'random_state': 70}. Best is trial 16 with value: 0.8901303538175046.\n"
     ]
    },
    {
     "name": "stdout",
     "output_type": "stream",
     "text": [
      "F1 score: 0.8820559889857733\n",
      "Cross-validation scores mean: 0.9946616629835079, std: 0.00030305864018877047\n",
      "Test score: 0.9952316723342008\n"
     ]
    },
    {
     "name": "stderr",
     "output_type": "stream",
     "text": [
      "[I 2023-11-22 13:26:34,542] Trial 87 finished with value: 0.8837424733672997 and parameters: {'n_estimators': 265, 'max_depth': 17, 'learning_rate': 0.13319726352471742, 'subsample': 0.9897387402354264, 'colsample_bytree': 0.5265848813057363, 'reg_alpha': 0.10433261991458626, 'reg_lambda': 9.785428209815837, 'random_state': 73}. Best is trial 16 with value: 0.8901303538175046.\n"
     ]
    },
    {
     "name": "stdout",
     "output_type": "stream",
     "text": [
      "F1 score: 0.8837424733672997\n",
      "Cross-validation scores mean: 0.994486462331835, std: 0.00019852473668926463\n",
      "Test score: 0.9951746803700678\n"
     ]
    },
    {
     "name": "stderr",
     "output_type": "stream",
     "text": [
      "[I 2023-11-22 13:27:09,866] Trial 88 finished with value: 0.8830570902394107 and parameters: {'n_estimators': 217, 'max_depth': 10, 'learning_rate': 0.1393976809928613, 'subsample': 0.9561859574686482, 'colsample_bytree': 0.5905072369624311, 'reg_alpha': 1.0557433015681248, 'reg_lambda': 9.456164047088834, 'random_state': 84}. Best is trial 16 with value: 0.8901303538175046.\n"
     ]
    },
    {
     "name": "stdout",
     "output_type": "stream",
     "text": [
      "F1 score: 0.8830570902394107\n",
      "Cross-validation scores mean: 0.9944759081752922, std: 0.00024891080251258284\n",
      "Test score: 0.9950227017990463\n"
     ]
    },
    {
     "name": "stderr",
     "output_type": "stream",
     "text": [
      "[I 2023-11-22 13:27:34,047] Trial 89 finished with value: 0.8790397045244691 and parameters: {'n_estimators': 121, 'max_depth': 12, 'learning_rate': 0.15019463547835427, 'subsample': 0.9264222720396132, 'colsample_bytree': 0.6238113450534568, 'reg_alpha': 1.3973204511982598, 'reg_lambda': 8.464618744650796, 'random_state': 48}. Best is trial 16 with value: 0.8901303538175046.\n"
     ]
    },
    {
     "name": "stdout",
     "output_type": "stream",
     "text": [
      "F1 score: 0.8790397045244691\n",
      "Cross-validation scores mean: 0.9945687853009192, std: 0.00019272102542343457\n",
      "Test score: 0.9950416991204241\n"
     ]
    },
    {
     "name": "stderr",
     "output_type": "stream",
     "text": [
      "[I 2023-11-22 13:28:06,488] Trial 90 finished with value: 0.8799999999999999 and parameters: {'n_estimators': 232, 'max_depth': 8, 'learning_rate': 0.16088185813578074, 'subsample': 0.9499363789865356, 'colsample_bytree': 0.5511773826253044, 'reg_alpha': 0.5351599595259893, 'reg_lambda': 7.972437672239972, 'random_state': 40}. Best is trial 16 with value: 0.8901303538175046.\n"
     ]
    },
    {
     "name": "stdout",
     "output_type": "stream",
     "text": [
      "F1 score: 0.8799999999999999\n",
      "Cross-validation scores mean: 0.9945814504981882, std: 0.0002556256829998368\n",
      "Test score: 0.9952316723342008\n"
     ]
    },
    {
     "name": "stderr",
     "output_type": "stream",
     "text": [
      "[I 2023-11-22 13:28:56,222] Trial 91 finished with value: 0.8837424733672997 and parameters: {'n_estimators': 321, 'max_depth': 10, 'learning_rate': 0.14324700860661635, 'subsample': 0.9771985146035064, 'colsample_bytree': 0.5662977662767791, 'reg_alpha': 0.8906942127042421, 'reg_lambda': 8.755901045240252, 'random_state': 83}. Best is trial 16 with value: 0.8901303538175046.\n"
     ]
    },
    {
     "name": "stdout",
     "output_type": "stream",
     "text": [
      "F1 score: 0.8837424733672997\n",
      "Cross-validation scores mean: 0.9946173350938258, std: 0.0001877243800222925\n",
      "Test score: 0.9952126750128232\n"
     ]
    },
    {
     "name": "stderr",
     "output_type": "stream",
     "text": [
      "[I 2023-11-22 13:29:44,631] Trial 92 finished with value: 0.8838709677419356 and parameters: {'n_estimators': 341, 'max_depth': 9, 'learning_rate': 0.14619683784166584, 'subsample': 0.9896760882632327, 'colsample_bytree': 0.5381010734517777, 'reg_alpha': 0.7408689956778283, 'reg_lambda': 9.035442287959507, 'random_state': 22}. Best is trial 16 with value: 0.8901303538175046.\n"
     ]
    },
    {
     "name": "stdout",
     "output_type": "stream",
     "text": [
      "F1 score: 0.8838709677419356\n",
      "Cross-validation scores mean: 0.9946278892949255, std: 0.00022546768515228945\n",
      "Test score: 0.995345656262467\n"
     ]
    },
    {
     "name": "stderr",
     "output_type": "stream",
     "text": [
      "[I 2023-11-22 13:30:33,733] Trial 93 finished with value: 0.8870447210696173 and parameters: {'n_estimators': 304, 'max_depth': 11, 'learning_rate': 0.13472711644794344, 'subsample': 0.9657233649778579, 'colsample_bytree': 0.5657587685813981, 'reg_alpha': 0.4016445038726536, 'reg_lambda': 8.810872327107976, 'random_state': 18}. Best is trial 16 with value: 0.8901303538175046.\n"
     ]
    },
    {
     "name": "stdout",
     "output_type": "stream",
     "text": [
      "F1 score: 0.8870447210696173\n",
      "Cross-validation scores mean: 0.9945877832193541, std: 0.0002759727417957999\n",
      "Test score: 0.9954596401907331\n"
     ]
    },
    {
     "name": "stderr",
     "output_type": "stream",
     "text": [
      "[I 2023-11-22 13:31:21,044] Trial 94 finished with value: 0.8897092754960776 and parameters: {'n_estimators': 279, 'max_depth': 12, 'learning_rate': 0.15481158710643045, 'subsample': 0.9775012840461007, 'colsample_bytree': 0.5100064579917347, 'reg_alpha': 1.0380981693341926, 'reg_lambda': 9.30736464327703, 'random_state': 9}. Best is trial 16 with value: 0.8901303538175046.\n"
     ]
    },
    {
     "name": "stdout",
     "output_type": "stream",
     "text": [
      "F1 score: 0.8897092754960776\n",
      "Cross-validation scores mean: 0.9945561202373211, std: 0.00022728329081519012\n",
      "Test score: 0.9952126750128232\n"
     ]
    },
    {
     "name": "stderr",
     "output_type": "stream",
     "text": [
      "[I 2023-11-22 13:32:12,601] Trial 95 finished with value: 0.8830083565459611 and parameters: {'n_estimators': 281, 'max_depth': 14, 'learning_rate': 0.15536791615042345, 'subsample': 0.9912704267586118, 'colsample_bytree': 0.5107277893461917, 'reg_alpha': 1.8364934804718214, 'reg_lambda': 9.854492848209862, 'random_state': 15}. Best is trial 16 with value: 0.8901303538175046.\n"
     ]
    },
    {
     "name": "stdout",
     "output_type": "stream",
     "text": [
      "F1 score: 0.8830083565459611\n",
      "Cross-validation scores mean: 0.9945962260009938, std: 0.00021814891150567274\n",
      "Test score: 0.9951746803700678\n"
     ]
    },
    {
     "name": "stderr",
     "output_type": "stream",
     "text": [
      "[I 2023-11-22 13:32:59,201] Trial 96 finished with value: 0.8824074074074074 and parameters: {'n_estimators': 252, 'max_depth': 13, 'learning_rate': 0.16285278415885293, 'subsample': 0.9497654381570209, 'colsample_bytree': 0.5010418531533297, 'reg_alpha': 1.010133419758813, 'reg_lambda': 9.322668891468219, 'random_state': 12}. Best is trial 16 with value: 0.8901303538175046.\n"
     ]
    },
    {
     "name": "stdout",
     "output_type": "stream",
     "text": [
      "F1 score: 0.8824074074074074\n",
      "Cross-validation scores mean: 0.9945751177993006, std: 0.0002831202366130859\n",
      "Test score: 0.9952316723342008\n"
     ]
    },
    {
     "name": "stderr",
     "output_type": "stream",
     "text": [
      "[I 2023-11-22 13:33:48,097] Trial 97 finished with value: 0.8833100883310088 and parameters: {'n_estimators': 273, 'max_depth': 12, 'learning_rate': 0.17901036639434492, 'subsample': 0.9361087298907692, 'colsample_bytree': 0.5246319844040792, 'reg_alpha': 1.578635195730339, 'reg_lambda': 8.236355487593872, 'random_state': 100}. Best is trial 16 with value: 0.8901303538175046.\n"
     ]
    },
    {
     "name": "stdout",
     "output_type": "stream",
     "text": [
      "F1 score: 0.8833100883310088\n",
      "Cross-validation scores mean: 0.9945497875829904, std: 0.0002045014093325593\n",
      "Test score: 0.9950037044776686\n"
     ]
    },
    {
     "name": "stderr",
     "output_type": "stream",
     "text": [
      "[I 2023-11-22 13:34:38,268] Trial 98 finished with value: 0.8786340562990309 and parameters: {'n_estimators': 295, 'max_depth': 12, 'learning_rate': 0.15802389587327134, 'subsample': 0.9630004130471337, 'colsample_bytree': 0.5114355916831214, 'reg_alpha': 1.2833977124748874, 'reg_lambda': 9.597575639410788, 'random_state': 31}. Best is trial 16 with value: 0.8901303538175046.\n"
     ]
    },
    {
     "name": "stdout",
     "output_type": "stream",
     "text": [
      "F1 score: 0.8786340562990309\n",
      "Cross-validation scores mean: 0.9947207661977681, std: 0.00028721751486960294\n",
      "Test score: 0.9951936776914455\n"
     ]
    },
    {
     "name": "stderr",
     "output_type": "stream",
     "text": [
      "[I 2023-11-22 13:35:21,179] Trial 99 finished with value: 0.8831408775981523 and parameters: {'n_estimators': 242, 'max_depth': 13, 'learning_rate': 0.1659807042848357, 'subsample': 0.9843404442783942, 'colsample_bytree': 0.5510809395995141, 'reg_alpha': 0.5929469064517836, 'reg_lambda': 8.524471182981543, 'random_state': 93}. Best is trial 16 with value: 0.8901303538175046.\n"
     ]
    },
    {
     "name": "stdout",
     "output_type": "stream",
     "text": [
      "F1 score: 0.8831408775981523\n",
      "{'n_estimators': 269, 'max_depth': 18, 'learning_rate': 0.1625455025741216, 'subsample': 0.8764174359821452, 'colsample_bytree': 0.606095076121955, 'reg_alpha': 0.5612075815264514, 'reg_lambda': 8.971726361946647, 'random_state': 57}\n",
      "0.8901303538175046\n"
     ]
    }
   ],
   "source": [
    "import optuna\n",
    "\n",
    "def objective(trial):\n",
    "    model = XGBModel(\n",
    "        {\n",
    "            \"n_estimators\": trial.suggest_int(\"n_estimators\", 50, 500),\n",
    "            \"max_depth\": trial.suggest_int(\"max_depth\", 5, 20),\n",
    "            \"learning_rate\": trial.suggest_float(\"learning_rate\", 0.01, 0.2),\n",
    "            \"subsample\": trial.suggest_float(\"subsample\", 0.5, 1.0),\n",
    "            \"colsample_bytree\": trial.suggest_float(\"colsample_bytree\", 0.5, 1.0),\n",
    "            \"reg_alpha\": trial.suggest_float(\"reg_alpha\", 0.1, 10),\n",
    "            \"reg_lambda\": trial.suggest_float(\"reg_lambda\", 0.1, 10),\n",
    "            \"random_state\": 42\n",
    "        }\n",
    "    )\n",
    "    return model.fit(ds)\n",
    "\n",
    "study = optuna.create_study(direction='maximize')\n",
    "study.optimize(objective, n_trials=100)\n",
    "\n",
    "print(study.best_params)\n",
    "print(study.best_value)\n"
   ]
  },
  {
   "cell_type": "code",
   "execution_count": 7,
   "metadata": {},
   "outputs": [],
   "source": [
    "# get best model from study\n",
    "model = XGBModel(study.best_params)"
   ]
  },
  {
   "cell_type": "code",
   "execution_count": 8,
   "metadata": {},
   "outputs": [
    {
     "name": "stdout",
     "output_type": "stream",
     "text": [
      "Cross-validation scores mean: 0.9946869930661473, std: 0.00029706197884966804\n",
      "Test score: 0.9955166321548662\n",
      "F1 score: 0.8901303538175046\n"
     ]
    },
    {
     "data": {
      "text/plain": [
       "0.8901303538175046"
      ]
     },
     "execution_count": 8,
     "metadata": {},
     "output_type": "execute_result"
    }
   ],
   "source": [
    "model.fit(ds)"
   ]
  },
  {
   "cell_type": "code",
   "execution_count": 5,
   "metadata": {},
   "outputs": [
    {
     "data": {
      "text/plain": [
       "0.8721251149954002"
      ]
     },
     "execution_count": 5,
     "metadata": {},
     "output_type": "execute_result"
    }
   ],
   "source": [
    "model.f1_score"
   ]
  },
  {
   "cell_type": "code",
   "execution_count": 9,
   "metadata": {},
   "outputs": [
    {
     "data": {
      "text/plain": [
       "'2023-11-22-13-54-e3f61'"
      ]
     },
     "execution_count": 9,
     "metadata": {},
     "output_type": "execute_result"
    }
   ],
   "source": [
    "model.save()"
   ]
  },
  {
   "cell_type": "code",
   "execution_count": 4,
   "metadata": {},
   "outputs": [],
   "source": [
    "model = model.load(save_id='2023-11-22-11-51-94461')"
   ]
  },
  {
   "cell_type": "code",
   "execution_count": 10,
   "metadata": {},
   "outputs": [],
   "source": [
    "model.predict(ds).to_csv('submissions/submission_optuna1.csv', index=False)"
   ]
  },
  {
   "cell_type": "code",
   "execution_count": null,
   "metadata": {},
   "outputs": [],
   "source": []
  },
  {
   "cell_type": "code",
   "execution_count": null,
   "metadata": {},
   "outputs": [],
   "source": []
  }
 ],
 "metadata": {
  "kernelspec": {
   "display_name": ".venv",
   "language": "python",
   "name": "python3"
  },
  "language_info": {
   "codemirror_mode": {
    "name": "ipython",
    "version": 3
   },
   "file_extension": ".py",
   "mimetype": "text/x-python",
   "name": "python",
   "nbconvert_exporter": "python",
   "pygments_lexer": "ipython3",
   "version": "3.11.4"
  }
 },
 "nbformat": 4,
 "nbformat_minor": 2
}
