{
 "cells": [
  {
   "cell_type": "code",
   "execution_count": 1,
   "metadata": {},
   "outputs": [],
   "source": [
    "from datasets import PetyaDataset\n",
    "\n",
    "from models import XGBModel"
   ]
  },
  {
   "cell_type": "code",
   "execution_count": 2,
   "metadata": {},
   "outputs": [
    {
     "name": "stderr",
     "output_type": "stream",
     "text": [
      "/Users/peter.nagy/repos/datarace23/datasets/base.py:204: RuntimeWarning: invalid value encountered in log1p\n",
      "  df[feature] = df[feature].apply(lambda x: np.where(x > 0, np.log1p(x), 0))\n",
      "/Users/peter.nagy/repos/datarace23/datasets/base.py:204: RuntimeWarning: invalid value encountered in log1p\n",
      "  df[feature] = df[feature].apply(lambda x: np.where(x > 0, np.log1p(x), 0))\n"
     ]
    }
   ],
   "source": [
    "ds = PetyaDataset(\n",
    "    ohe_features=[\n",
    "        # \"CONTRACT_CREDIT_INTERMEDIARY\",\n",
    "        \"CONTRACT_CURRENCY\",\n",
    "        \"CONTRACT_FREQUENCY_TYPE\",\n",
    "        \"CONTRACT_LOAN_CONTRACT_TYPE\",\n",
    "        \"CONTRACT_LOAN_TYPE\",\n",
    "        \"CONTRACT_MORTGAGE_TYPE\",\n",
    "        # \"CONTRACT_REFINANCED\",\n",
    "        \"CONTRACT_TYPE_OF_INTEREST_REPAYMENT\",\n",
    "        \"BORROWER_TYPE_OF_CUSTOMER\",\n",
    "        \"BORROWER_TYPE_OF_SETTLEMENT\",\n",
    "        \"CREDIT_INTERMEDIARY_AND_REFINANCED\"\n",
    "    ],\n",
    "    le_features=[\n",
    "        \"CONTRACT_BANK_ID\",\n",
    "        \"BORROWER_CITIZENSHIP\",\n",
    "        \"BORROWER_COUNTRY\",\n",
    "        \"BORROWER_COUNTY\"\n",
    "    ],\n",
    "    categorical_features=[],\n",
    "    log_transform_features=[\n",
    "        \"CONTRACT_CREDIT_LOSS\",\n",
    "        \"CONTRACT_INCOME\",\n",
    "        \"CONTRACT_LOAN_AMOUNT\",\n",
    "        \"CONTRACT_MARKET_VALUE\",\n",
    "        \"CONTRACT_MORTGAGE_LENDING_VALUE\",\n",
    "    ],\n",
    "    numerical_features=[\n",
    "        \"NUM_BORROWERS\",\n",
    "        \"CONTRACT_COUNT\",\n",
    "        \"CONTRACT_CUMULATIVE_CREDIT_AMOUNT\",\n",
    "        \"CONTRACT_LOAN_TYPE_UNIQUE_COUNT\",\n",
    "        \"CONTRACT_INSTALMENT_AMOUNT_SUM\",\n",
    "        \"CONTRACT_INSTALMENT_AMOUNT_SUM_2\",\n",
    "\n",
    "    ]\n",
    ")"
   ]
  },
  {
   "cell_type": "code",
   "execution_count": 4,
   "metadata": {},
   "outputs": [
    {
     "data": {
      "text/plain": [
       "'2023-11-27-08-02-bddd2'"
      ]
     },
     "execution_count": 4,
     "metadata": {},
     "output_type": "execute_result"
    }
   ],
   "source": [
    "ds.save()"
   ]
  },
  {
   "cell_type": "code",
   "execution_count": 5,
   "metadata": {},
   "outputs": [],
   "source": [
    "model = XGBModel(\n",
    "{\n",
    "        \"n_estimators\": 100,\n",
    "        \"max_depth\": 10,\n",
    "        \"learning_rate\": 0.1,\n",
    "        \"subsample\": 0.5,\n",
    "        \"colsample_bytree\": 0.5,\n",
    "        \"reg_alpha\": 1,\n",
    "        \"reg_lambda\": 1,\n",
    "        \"random_state\": 42,\n",
    "    }\n",
    ")"
   ]
  },
  {
   "cell_type": "code",
   "execution_count": 6,
   "metadata": {},
   "outputs": [
    {
     "name": "stdout",
     "output_type": "stream",
     "text": [
      "Cross-validation scores mean: 0.9937539971441224, std: 0.000166673322680398\n",
      "Test score: 0.9942248143011835\n",
      "F1 score: 0.8596491228070176\n"
     ]
    },
    {
     "data": {
      "text/plain": [
       "0.9937539971441224"
      ]
     },
     "execution_count": 6,
     "metadata": {},
     "output_type": "execute_result"
    }
   ],
   "source": [
    "model.fit(ds)"
   ]
  },
  {
   "cell_type": "code",
   "execution_count": 7,
   "metadata": {},
   "outputs": [
    {
     "data": {
      "text/plain": [
       "'2023-11-27-08-03-a4901'"
      ]
     },
     "execution_count": 7,
     "metadata": {},
     "output_type": "execute_result"
    }
   ],
   "source": [
    "model.save()"
   ]
  },
  {
   "cell_type": "code",
   "execution_count": 8,
   "metadata": {},
   "outputs": [],
   "source": [
    "model.predict(ds).to_csv(\"submissions/petyadataset1.csv\", index=False)"
   ]
  }
 ],
 "metadata": {
  "kernelspec": {
   "display_name": ".venv",
   "language": "python",
   "name": "python3"
  },
  "language_info": {
   "codemirror_mode": {
    "name": "ipython",
    "version": 3
   },
   "file_extension": ".py",
   "mimetype": "text/x-python",
   "name": "python",
   "nbconvert_exporter": "python",
   "pygments_lexer": "ipython3",
   "version": "3.11.4"
  }
 },
 "nbformat": 4,
 "nbformat_minor": 2
}
